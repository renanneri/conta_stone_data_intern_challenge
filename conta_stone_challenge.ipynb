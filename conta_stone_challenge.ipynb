{
  "nbformat": 4,
  "nbformat_minor": 0,
  "metadata": {
    "colab": {
      "name": "conta_stone_challenge.ipynb",
      "provenance": [],
      "collapsed_sections": []
    },
    "kernelspec": {
      "name": "python3",
      "display_name": "Python 3",
      "language": "python"
    }
  },
  "cells": [
    {
      "cell_type": "markdown",
      "metadata": {
        "id": "x4bU8BFDHDIs"
      },
      "source": [
        "# Data Intern Challenge - Candidate: Renan Neri\n",
        "\n",
        "This is Conta Stone's data challenge for intern applicants. The objective is to extract and analyze data from a database.\n",
        "\n",
        "## Instructions\n",
        "\n",
        "The solution can be developed using Python, SQL scripts, a BI tool or a combination of those. \n",
        "It must be sent as a compressed `.zip` folder including all the necessary files or hosted in a public code repository, such as **GitHub** or **GitLab**.\n",
        "\n",
        "The database contains credit card transactional data in 4 tables:\n",
        "\n",
        "- `customers`\n",
        "- `cards`\n",
        "- `transactions`\n",
        "- `frauds`\n",
        "\n",
        "1. Extract and analyze the data in the database in order to answer the following questions. Provide a description and/or comments for each solution.\n",
        "\n",
        "- What is the average `age` of the customers in the database?\n",
        "- How is the `card_family` ranked based on the `credit_limit` given to each card?\n",
        "- For the transactions flagged as fraud, what are the `id`s of the transactions with the highest value?\n",
        "\n",
        "2. Analysis:\n",
        "\n",
        "- Analyze whether or not the fraudulent transactions are somehow associated to the other features of the dataset. Explain your results.\n",
        "\n",
        "**It is not necessary to answer all questions.**"
      ]
    },
    {
      "cell_type": "markdown",
      "metadata": {
        "id": "hwTARTggqKR2"
      },
      "source": [
        "## Imports os libraries and data"
      ]
    },
    {
      "cell_type": "code",
      "metadata": {
        "id": "JfgkcDkrHgcY"
      },
      "source": [
        "import pandas as pd\n",
        "import numpy as np\n",
        "import matplotlib.pyplot as plt\n",
        "from sklearn.preprocessing import MinMaxScaler\n",
        "from sklearn.neighbors     import KNeighborsClassifier\n",
        "from sklearn.neural_network import MLPClassifier\n",
        "from sklearn.ensemble import AdaBoostClassifier, GradientBoostingClassifier, RandomForestClassifier\n",
        "from sklearn.model_selection import GridSearchCV"
      ],
      "execution_count": 2,
      "outputs": [
        {
          "output_type": "error",
          "ename": "ModuleNotFoundError",
          "evalue": "No module named 'sklearn'",
          "traceback": [
            "\u001b[0;31m---------------------------------------------------------------------------\u001b[0m",
            "\u001b[0;31mModuleNotFoundError\u001b[0m                       Traceback (most recent call last)",
            "\u001b[0;32m<ipython-input-2-a2ccfd357e4e>\u001b[0m in \u001b[0;36m<module>\u001b[0;34m\u001b[0m\n\u001b[1;32m      2\u001b[0m \u001b[0;32mimport\u001b[0m \u001b[0mnumpy\u001b[0m \u001b[0;32mas\u001b[0m \u001b[0mnp\u001b[0m\u001b[0;34m\u001b[0m\u001b[0;34m\u001b[0m\u001b[0m\n\u001b[1;32m      3\u001b[0m \u001b[0;32mimport\u001b[0m \u001b[0mmatplotlib\u001b[0m\u001b[0;34m.\u001b[0m\u001b[0mpyplot\u001b[0m \u001b[0;32mas\u001b[0m \u001b[0mplt\u001b[0m\u001b[0;34m\u001b[0m\u001b[0;34m\u001b[0m\u001b[0m\n\u001b[0;32m----> 4\u001b[0;31m \u001b[0;32mfrom\u001b[0m \u001b[0msklearn\u001b[0m\u001b[0;34m.\u001b[0m\u001b[0mpreprocessing\u001b[0m \u001b[0;32mimport\u001b[0m \u001b[0mMinMaxScaler\u001b[0m\u001b[0;34m\u001b[0m\u001b[0;34m\u001b[0m\u001b[0m\n\u001b[0m\u001b[1;32m      5\u001b[0m \u001b[0;32mfrom\u001b[0m \u001b[0msklearn\u001b[0m\u001b[0;34m.\u001b[0m\u001b[0mneighbors\u001b[0m     \u001b[0;32mimport\u001b[0m \u001b[0mKNeighborsClassifier\u001b[0m\u001b[0;34m\u001b[0m\u001b[0;34m\u001b[0m\u001b[0m\n\u001b[1;32m      6\u001b[0m \u001b[0;32mfrom\u001b[0m \u001b[0msklearn\u001b[0m\u001b[0;34m.\u001b[0m\u001b[0mneural_network\u001b[0m \u001b[0;32mimport\u001b[0m \u001b[0mMLPClassifier\u001b[0m\u001b[0;34m\u001b[0m\u001b[0;34m\u001b[0m\u001b[0m\n",
            "\u001b[0;31mModuleNotFoundError\u001b[0m: No module named 'sklearn'"
          ]
        }
      ]
    },
    {
      "cell_type": "code",
      "metadata": {
        "id": "2_q3oDTqdRbn"
      },
      "source": [
        "cards = pd.read_csv(\"cards.csv\", sep=\";\")\n",
        "customers = pd.read_csv(\"customers.csv\", sep=\";\")\n",
        "frauds = pd.read_csv(\"frauds.csv\", sep=\";\")\n",
        "transactions = pd.read_csv(\"transactions.csv\", sep=\";\")"
      ],
      "execution_count": 227,
      "outputs": []
    },
    {
      "cell_type": "markdown",
      "metadata": {
        "id": "nGgGS6-FqSm0"
      },
      "source": [
        "## Data structure understandig"
      ]
    },
    {
      "cell_type": "code",
      "metadata": {
        "colab": {
          "base_uri": "https://localhost:8080/",
          "height": 202
        },
        "id": "ET-RRJmY7Ruw",
        "outputId": "71922dd6-5e2c-43fb-e299-45d7ddcc1612"
      },
      "source": [
        "cards.head()"
      ],
      "execution_count": 229,
      "outputs": [
        {
          "output_type": "execute_result",
          "data": {
            "text/html": [
              "<div>\n",
              "<style scoped>\n",
              "    .dataframe tbody tr th:only-of-type {\n",
              "        vertical-align: middle;\n",
              "    }\n",
              "\n",
              "    .dataframe tbody tr th {\n",
              "        vertical-align: top;\n",
              "    }\n",
              "\n",
              "    .dataframe thead th {\n",
              "        text-align: right;\n",
              "    }\n",
              "</style>\n",
              "<table border=\"1\" class=\"dataframe\">\n",
              "  <thead>\n",
              "    <tr style=\"text-align: right;\">\n",
              "      <th></th>\n",
              "      <th>card_number</th>\n",
              "      <th>card_family</th>\n",
              "      <th>credit_limit</th>\n",
              "      <th>customer_id</th>\n",
              "    </tr>\n",
              "  </thead>\n",
              "  <tbody>\n",
              "    <tr>\n",
              "      <th>0</th>\n",
              "      <td>8638-5407-3631-8196</td>\n",
              "      <td>Premium</td>\n",
              "      <td>530000</td>\n",
              "      <td>CC67088</td>\n",
              "    </tr>\n",
              "    <tr>\n",
              "      <th>1</th>\n",
              "      <td>7106-4239-7093-1515</td>\n",
              "      <td>Gold</td>\n",
              "      <td>18000</td>\n",
              "      <td>CC12076</td>\n",
              "    </tr>\n",
              "    <tr>\n",
              "      <th>2</th>\n",
              "      <td>6492-5655-8241-3530</td>\n",
              "      <td>Premium</td>\n",
              "      <td>596000</td>\n",
              "      <td>CC97173</td>\n",
              "    </tr>\n",
              "    <tr>\n",
              "      <th>3</th>\n",
              "      <td>2868-5606-5152-5706</td>\n",
              "      <td>Gold</td>\n",
              "      <td>27000</td>\n",
              "      <td>CC55858</td>\n",
              "    </tr>\n",
              "    <tr>\n",
              "      <th>4</th>\n",
              "      <td>1438-6906-2509-8219</td>\n",
              "      <td>Platinum</td>\n",
              "      <td>142000</td>\n",
              "      <td>CC90518</td>\n",
              "    </tr>\n",
              "  </tbody>\n",
              "</table>\n",
              "</div>"
            ],
            "text/plain": [
              "           card_number card_family  credit_limit customer_id\n",
              "0  8638-5407-3631-8196     Premium        530000     CC67088\n",
              "1  7106-4239-7093-1515        Gold         18000     CC12076\n",
              "2  6492-5655-8241-3530     Premium        596000     CC97173\n",
              "3  2868-5606-5152-5706        Gold         27000     CC55858\n",
              "4  1438-6906-2509-8219    Platinum        142000     CC90518"
            ]
          },
          "metadata": {
            "tags": []
          },
          "execution_count": 229
        }
      ]
    },
    {
      "cell_type": "code",
      "metadata": {
        "colab": {
          "base_uri": "https://localhost:8080/",
          "height": 202
        },
        "id": "lmjmM9wu7hYn",
        "outputId": "c7014089-4ba5-4eb2-bf33-683fe0d5b4c6"
      },
      "source": [
        "customers.head()"
      ],
      "execution_count": 230,
      "outputs": [
        {
          "output_type": "execute_result",
          "data": {
            "text/html": [
              "<div>\n",
              "<style scoped>\n",
              "    .dataframe tbody tr th:only-of-type {\n",
              "        vertical-align: middle;\n",
              "    }\n",
              "\n",
              "    .dataframe tbody tr th {\n",
              "        vertical-align: top;\n",
              "    }\n",
              "\n",
              "    .dataframe thead th {\n",
              "        text-align: right;\n",
              "    }\n",
              "</style>\n",
              "<table border=\"1\" class=\"dataframe\">\n",
              "  <thead>\n",
              "    <tr style=\"text-align: right;\">\n",
              "      <th></th>\n",
              "      <th>id</th>\n",
              "      <th>age</th>\n",
              "      <th>segment</th>\n",
              "      <th>vintage_group</th>\n",
              "    </tr>\n",
              "  </thead>\n",
              "  <tbody>\n",
              "    <tr>\n",
              "      <th>0</th>\n",
              "      <td>CC25034</td>\n",
              "      <td>35</td>\n",
              "      <td>Diamond</td>\n",
              "      <td>VG1</td>\n",
              "    </tr>\n",
              "    <tr>\n",
              "      <th>1</th>\n",
              "      <td>CC59625</td>\n",
              "      <td>22</td>\n",
              "      <td>Diamond</td>\n",
              "      <td>VG1</td>\n",
              "    </tr>\n",
              "    <tr>\n",
              "      <th>2</th>\n",
              "      <td>CC69314</td>\n",
              "      <td>33</td>\n",
              "      <td>Diamond</td>\n",
              "      <td>VG1</td>\n",
              "    </tr>\n",
              "    <tr>\n",
              "      <th>3</th>\n",
              "      <td>CC67036</td>\n",
              "      <td>46</td>\n",
              "      <td>Diamond</td>\n",
              "      <td>VG1</td>\n",
              "    </tr>\n",
              "    <tr>\n",
              "      <th>4</th>\n",
              "      <td>CC25597</td>\n",
              "      <td>44</td>\n",
              "      <td>Diamond</td>\n",
              "      <td>VG1</td>\n",
              "    </tr>\n",
              "  </tbody>\n",
              "</table>\n",
              "</div>"
            ],
            "text/plain": [
              "        id  age  segment vintage_group\n",
              "0  CC25034   35  Diamond           VG1\n",
              "1  CC59625   22  Diamond           VG1\n",
              "2  CC69314   33  Diamond           VG1\n",
              "3  CC67036   46  Diamond           VG1\n",
              "4  CC25597   44  Diamond           VG1"
            ]
          },
          "metadata": {
            "tags": []
          },
          "execution_count": 230
        }
      ]
    },
    {
      "cell_type": "code",
      "metadata": {
        "colab": {
          "base_uri": "https://localhost:8080/",
          "height": 202
        },
        "id": "l390GvmU7U68",
        "outputId": "735365b3-09f7-40f9-b4ad-6d8c4da00e91"
      },
      "source": [
        "frauds.head()"
      ],
      "execution_count": 231,
      "outputs": [
        {
          "output_type": "execute_result",
          "data": {
            "text/html": [
              "<div>\n",
              "<style scoped>\n",
              "    .dataframe tbody tr th:only-of-type {\n",
              "        vertical-align: middle;\n",
              "    }\n",
              "\n",
              "    .dataframe tbody tr th {\n",
              "        vertical-align: top;\n",
              "    }\n",
              "\n",
              "    .dataframe thead th {\n",
              "        text-align: right;\n",
              "    }\n",
              "</style>\n",
              "<table border=\"1\" class=\"dataframe\">\n",
              "  <thead>\n",
              "    <tr style=\"text-align: right;\">\n",
              "      <th></th>\n",
              "      <th>transaction_id</th>\n",
              "      <th>fraud_flag</th>\n",
              "    </tr>\n",
              "  </thead>\n",
              "  <tbody>\n",
              "    <tr>\n",
              "      <th>0</th>\n",
              "      <td>CTID50558449</td>\n",
              "      <td>True</td>\n",
              "    </tr>\n",
              "    <tr>\n",
              "      <th>1</th>\n",
              "      <td>CTID55936882</td>\n",
              "      <td>True</td>\n",
              "    </tr>\n",
              "    <tr>\n",
              "      <th>2</th>\n",
              "      <td>CTID63762180</td>\n",
              "      <td>True</td>\n",
              "    </tr>\n",
              "    <tr>\n",
              "      <th>3</th>\n",
              "      <td>CTID76723439</td>\n",
              "      <td>True</td>\n",
              "    </tr>\n",
              "    <tr>\n",
              "      <th>4</th>\n",
              "      <td>CTID21246201</td>\n",
              "      <td>True</td>\n",
              "    </tr>\n",
              "  </tbody>\n",
              "</table>\n",
              "</div>"
            ],
            "text/plain": [
              "  transaction_id  fraud_flag\n",
              "0   CTID50558449        True\n",
              "1   CTID55936882        True\n",
              "2   CTID63762180        True\n",
              "3   CTID76723439        True\n",
              "4   CTID21246201        True"
            ]
          },
          "metadata": {
            "tags": []
          },
          "execution_count": 231
        }
      ]
    },
    {
      "cell_type": "code",
      "metadata": {
        "colab": {
          "base_uri": "https://localhost:8080/",
          "height": 171
        },
        "id": "RAXZmz1bDpvf",
        "outputId": "fd291748-bee1-4483-afda-b4565955f638"
      },
      "source": [
        "frauds.describe()"
      ],
      "execution_count": 232,
      "outputs": [
        {
          "output_type": "execute_result",
          "data": {
            "text/html": [
              "<div>\n",
              "<style scoped>\n",
              "    .dataframe tbody tr th:only-of-type {\n",
              "        vertical-align: middle;\n",
              "    }\n",
              "\n",
              "    .dataframe tbody tr th {\n",
              "        vertical-align: top;\n",
              "    }\n",
              "\n",
              "    .dataframe thead th {\n",
              "        text-align: right;\n",
              "    }\n",
              "</style>\n",
              "<table border=\"1\" class=\"dataframe\">\n",
              "  <thead>\n",
              "    <tr style=\"text-align: right;\">\n",
              "      <th></th>\n",
              "      <th>transaction_id</th>\n",
              "      <th>fraud_flag</th>\n",
              "    </tr>\n",
              "  </thead>\n",
              "  <tbody>\n",
              "    <tr>\n",
              "      <th>count</th>\n",
              "      <td>109</td>\n",
              "      <td>109</td>\n",
              "    </tr>\n",
              "    <tr>\n",
              "      <th>unique</th>\n",
              "      <td>109</td>\n",
              "      <td>1</td>\n",
              "    </tr>\n",
              "    <tr>\n",
              "      <th>top</th>\n",
              "      <td>CTID12270763</td>\n",
              "      <td>True</td>\n",
              "    </tr>\n",
              "    <tr>\n",
              "      <th>freq</th>\n",
              "      <td>1</td>\n",
              "      <td>109</td>\n",
              "    </tr>\n",
              "  </tbody>\n",
              "</table>\n",
              "</div>"
            ],
            "text/plain": [
              "       transaction_id fraud_flag\n",
              "count             109        109\n",
              "unique            109          1\n",
              "top      CTID12270763       True\n",
              "freq                1        109"
            ]
          },
          "metadata": {
            "tags": []
          },
          "execution_count": 232
        }
      ]
    },
    {
      "cell_type": "code",
      "metadata": {
        "colab": {
          "base_uri": "https://localhost:8080/",
          "height": 202
        },
        "id": "XsMONUVN7lYh",
        "outputId": "3f7ff0aa-d21c-4e61-8580-89b851010fae"
      },
      "source": [
        "transactions.head()"
      ],
      "execution_count": 233,
      "outputs": [
        {
          "output_type": "execute_result",
          "data": {
            "text/html": [
              "<div>\n",
              "<style scoped>\n",
              "    .dataframe tbody tr th:only-of-type {\n",
              "        vertical-align: middle;\n",
              "    }\n",
              "\n",
              "    .dataframe tbody tr th {\n",
              "        vertical-align: top;\n",
              "    }\n",
              "\n",
              "    .dataframe thead th {\n",
              "        text-align: right;\n",
              "    }\n",
              "</style>\n",
              "<table border=\"1\" class=\"dataframe\">\n",
              "  <thead>\n",
              "    <tr style=\"text-align: right;\">\n",
              "      <th></th>\n",
              "      <th>id</th>\n",
              "      <th>card_number</th>\n",
              "      <th>transaction_date</th>\n",
              "      <th>value</th>\n",
              "      <th>segment</th>\n",
              "    </tr>\n",
              "  </thead>\n",
              "  <tbody>\n",
              "    <tr>\n",
              "      <th>0</th>\n",
              "      <td>CTID28830551</td>\n",
              "      <td>1629-9566-3285-2123</td>\n",
              "      <td>2016-04-24</td>\n",
              "      <td>23649</td>\n",
              "      <td>SEG25</td>\n",
              "    </tr>\n",
              "    <tr>\n",
              "      <th>1</th>\n",
              "      <td>CTID45504917</td>\n",
              "      <td>3697-6001-4909-5350</td>\n",
              "      <td>2016-02-11</td>\n",
              "      <td>26726</td>\n",
              "      <td>SEG16</td>\n",
              "    </tr>\n",
              "    <tr>\n",
              "      <th>2</th>\n",
              "      <td>CTID47312290</td>\n",
              "      <td>5864-4475-3659-1440</td>\n",
              "      <td>2016-11-01</td>\n",
              "      <td>22012</td>\n",
              "      <td>SEG14</td>\n",
              "    </tr>\n",
              "    <tr>\n",
              "      <th>3</th>\n",
              "      <td>CTID25637718</td>\n",
              "      <td>5991-4421-8476-3804</td>\n",
              "      <td>2016-01-28</td>\n",
              "      <td>37637</td>\n",
              "      <td>SEG17</td>\n",
              "    </tr>\n",
              "    <tr>\n",
              "      <th>4</th>\n",
              "      <td>CTID66743960</td>\n",
              "      <td>1893-8853-9900-8478</td>\n",
              "      <td>2016-03-17</td>\n",
              "      <td>5113</td>\n",
              "      <td>SEG14</td>\n",
              "    </tr>\n",
              "  </tbody>\n",
              "</table>\n",
              "</div>"
            ],
            "text/plain": [
              "             id          card_number transaction_date  value segment\n",
              "0  CTID28830551  1629-9566-3285-2123       2016-04-24  23649   SEG25\n",
              "1  CTID45504917  3697-6001-4909-5350       2016-02-11  26726   SEG16\n",
              "2  CTID47312290  5864-4475-3659-1440       2016-11-01  22012   SEG14\n",
              "3  CTID25637718  5991-4421-8476-3804       2016-01-28  37637   SEG17\n",
              "4  CTID66743960  1893-8853-9900-8478       2016-03-17   5113   SEG14"
            ]
          },
          "metadata": {
            "tags": []
          },
          "execution_count": 233
        }
      ]
    },
    {
      "cell_type": "markdown",
      "metadata": {
        "id": "mN3mUjKZxp5z"
      },
      "source": [
        "Viewing the quantity of transactions and frauds"
      ]
    },
    {
      "cell_type": "code",
      "metadata": {
        "colab": {
          "base_uri": "https://localhost:8080/"
        },
        "id": "I5Hr-cLHDlOf",
        "outputId": "18a23103-fe9d-4533-c3fb-a48ab8587df6"
      },
      "source": [
        "frauds.shape[0]"
      ],
      "execution_count": 234,
      "outputs": [
        {
          "output_type": "execute_result",
          "data": {
            "text/plain": [
              "109"
            ]
          },
          "metadata": {
            "tags": []
          },
          "execution_count": 234
        }
      ]
    },
    {
      "cell_type": "code",
      "metadata": {
        "colab": {
          "base_uri": "https://localhost:8080/"
        },
        "id": "WlFHxXioCyp6",
        "outputId": "22d52fe5-760e-4b8f-fe79-204a345106b2"
      },
      "source": [
        "transactions.shape[0]"
      ],
      "execution_count": 235,
      "outputs": [
        {
          "output_type": "execute_result",
          "data": {
            "text/plain": [
              "10000"
            ]
          },
          "metadata": {
            "tags": []
          },
          "execution_count": 235
        }
      ]
    },
    {
      "cell_type": "markdown",
      "metadata": {
        "id": "-PiZO975xgnG"
      },
      "source": [
        "Merging dataframes to become one dataframe and changing collums to numeric type."
      ]
    },
    {
      "cell_type": "code",
      "metadata": {
        "id": "JibQnqMJ-clU"
      },
      "source": [
        "transactions = transactions.merge(frauds, how='left',left_on=\"id\", right_on=\"transaction_id\", copy=False)\n",
        "transactions = transactions.replace({'fraud_flag': np.nan, }, 0)\n",
        "transactions = transactions.replace({'fraud_flag': True}, 1)\n",
        "transactions = transactions.drop(columns=['transaction_id'])\n",
        "transactions = transactions.merge(cards, how='left',left_on=\"card_number\", right_on=\"card_number\", copy=False)\n",
        "transactions = transactions.merge(customers, how='left',left_on=\"customer_id\", right_on=\"id\", copy=False)\n",
        "transactions = transactions.drop(columns=['id_y', 'segment_y'])\n",
        "transactions = transactions.rename(columns={\"id_x\": \"id\", \"segment_x\": \"segment\"})\n",
        "transactions['transaction_date'] = transactions['transaction_date'].astype('datetime64[ns]')\n",
        "transactions[\"customer_id\"] = pd.to_numeric(transactions[\"customer_id\"].str.slice(start=2))\n",
        "transactions[\"segment\"] = pd.to_numeric(transactions[\"segment\"].str.slice(start=3))\n",
        "transactions[\"vintage_group\"] = pd.to_numeric(transactions[\"vintage_group\"].str.slice(start=2))\n",
        "transactions[\"id\"] = pd.to_numeric(transactions[\"id\"].str.slice(start=4))\n",
        "\n",
        "\n",
        "frauds = transactions.loc[transactions[\"fraud_flag\"] > 0]"
      ],
      "execution_count": 236,
      "outputs": []
    },
    {
      "cell_type": "code",
      "metadata": {
        "colab": {
          "base_uri": "https://localhost:8080/",
          "height": 202
        },
        "id": "SbVVhdnrYl3J",
        "outputId": "f42cc6f7-779c-4e5f-808a-d3cdd8a48c14"
      },
      "source": [
        "transactions.head()"
      ],
      "execution_count": 237,
      "outputs": [
        {
          "output_type": "execute_result",
          "data": {
            "text/html": [
              "<div>\n",
              "<style scoped>\n",
              "    .dataframe tbody tr th:only-of-type {\n",
              "        vertical-align: middle;\n",
              "    }\n",
              "\n",
              "    .dataframe tbody tr th {\n",
              "        vertical-align: top;\n",
              "    }\n",
              "\n",
              "    .dataframe thead th {\n",
              "        text-align: right;\n",
              "    }\n",
              "</style>\n",
              "<table border=\"1\" class=\"dataframe\">\n",
              "  <thead>\n",
              "    <tr style=\"text-align: right;\">\n",
              "      <th></th>\n",
              "      <th>id</th>\n",
              "      <th>card_number</th>\n",
              "      <th>transaction_date</th>\n",
              "      <th>value</th>\n",
              "      <th>segment</th>\n",
              "      <th>fraud_flag</th>\n",
              "      <th>card_family</th>\n",
              "      <th>credit_limit</th>\n",
              "      <th>customer_id</th>\n",
              "      <th>age</th>\n",
              "      <th>vintage_group</th>\n",
              "    </tr>\n",
              "  </thead>\n",
              "  <tbody>\n",
              "    <tr>\n",
              "      <th>0</th>\n",
              "      <td>28830551</td>\n",
              "      <td>1629-9566-3285-2123</td>\n",
              "      <td>2016-04-24</td>\n",
              "      <td>23649</td>\n",
              "      <td>25</td>\n",
              "      <td>0</td>\n",
              "      <td>Platinum</td>\n",
              "      <td>194000</td>\n",
              "      <td>24544</td>\n",
              "      <td>23</td>\n",
              "      <td>3</td>\n",
              "    </tr>\n",
              "    <tr>\n",
              "      <th>1</th>\n",
              "      <td>45504917</td>\n",
              "      <td>3697-6001-4909-5350</td>\n",
              "      <td>2016-02-11</td>\n",
              "      <td>26726</td>\n",
              "      <td>16</td>\n",
              "      <td>0</td>\n",
              "      <td>Gold</td>\n",
              "      <td>15000</td>\n",
              "      <td>62261</td>\n",
              "      <td>48</td>\n",
              "      <td>3</td>\n",
              "    </tr>\n",
              "    <tr>\n",
              "      <th>2</th>\n",
              "      <td>47312290</td>\n",
              "      <td>5864-4475-3659-1440</td>\n",
              "      <td>2016-11-01</td>\n",
              "      <td>22012</td>\n",
              "      <td>14</td>\n",
              "      <td>0</td>\n",
              "      <td>Gold</td>\n",
              "      <td>2000</td>\n",
              "      <td>99402</td>\n",
              "      <td>23</td>\n",
              "      <td>1</td>\n",
              "    </tr>\n",
              "    <tr>\n",
              "      <th>3</th>\n",
              "      <td>25637718</td>\n",
              "      <td>5991-4421-8476-3804</td>\n",
              "      <td>2016-01-28</td>\n",
              "      <td>37637</td>\n",
              "      <td>17</td>\n",
              "      <td>0</td>\n",
              "      <td>Gold</td>\n",
              "      <td>19000</td>\n",
              "      <td>14871</td>\n",
              "      <td>44</td>\n",
              "      <td>2</td>\n",
              "    </tr>\n",
              "    <tr>\n",
              "      <th>4</th>\n",
              "      <td>66743960</td>\n",
              "      <td>1893-8853-9900-8478</td>\n",
              "      <td>2016-03-17</td>\n",
              "      <td>5113</td>\n",
              "      <td>14</td>\n",
              "      <td>0</td>\n",
              "      <td>Premium</td>\n",
              "      <td>417000</td>\n",
              "      <td>11165</td>\n",
              "      <td>42</td>\n",
              "      <td>3</td>\n",
              "    </tr>\n",
              "  </tbody>\n",
              "</table>\n",
              "</div>"
            ],
            "text/plain": [
              "         id          card_number  ... age  vintage_group\n",
              "0  28830551  1629-9566-3285-2123  ...  23              3\n",
              "1  45504917  3697-6001-4909-5350  ...  48              3\n",
              "2  47312290  5864-4475-3659-1440  ...  23              1\n",
              "3  25637718  5991-4421-8476-3804  ...  44              2\n",
              "4  66743960  1893-8853-9900-8478  ...  42              3\n",
              "\n",
              "[5 rows x 11 columns]"
            ]
          },
          "metadata": {
            "tags": []
          },
          "execution_count": 237
        }
      ]
    },
    {
      "cell_type": "code",
      "metadata": {
        "colab": {
          "base_uri": "https://localhost:8080/",
          "height": 202
        },
        "id": "uE1orMvcwLG5",
        "outputId": "53613348-0400-4b74-abf5-8b40ed3c7074"
      },
      "source": [
        "frauds.head()"
      ],
      "execution_count": 238,
      "outputs": [
        {
          "output_type": "execute_result",
          "data": {
            "text/html": [
              "<div>\n",
              "<style scoped>\n",
              "    .dataframe tbody tr th:only-of-type {\n",
              "        vertical-align: middle;\n",
              "    }\n",
              "\n",
              "    .dataframe tbody tr th {\n",
              "        vertical-align: top;\n",
              "    }\n",
              "\n",
              "    .dataframe thead th {\n",
              "        text-align: right;\n",
              "    }\n",
              "</style>\n",
              "<table border=\"1\" class=\"dataframe\">\n",
              "  <thead>\n",
              "    <tr style=\"text-align: right;\">\n",
              "      <th></th>\n",
              "      <th>id</th>\n",
              "      <th>card_number</th>\n",
              "      <th>transaction_date</th>\n",
              "      <th>value</th>\n",
              "      <th>segment</th>\n",
              "      <th>fraud_flag</th>\n",
              "      <th>card_family</th>\n",
              "      <th>credit_limit</th>\n",
              "      <th>customer_id</th>\n",
              "      <th>age</th>\n",
              "      <th>vintage_group</th>\n",
              "    </tr>\n",
              "  </thead>\n",
              "  <tbody>\n",
              "    <tr>\n",
              "      <th>102</th>\n",
              "      <td>50558449</td>\n",
              "      <td>4246-1369-3659-8804</td>\n",
              "      <td>2016-05-06</td>\n",
              "      <td>6984</td>\n",
              "      <td>23</td>\n",
              "      <td>1</td>\n",
              "      <td>Platinum</td>\n",
              "      <td>105000</td>\n",
              "      <td>21111</td>\n",
              "      <td>43</td>\n",
              "      <td>2</td>\n",
              "    </tr>\n",
              "    <tr>\n",
              "      <th>219</th>\n",
              "      <td>55936882</td>\n",
              "      <td>1336-9200-1264-2551</td>\n",
              "      <td>2016-11-29</td>\n",
              "      <td>34367</td>\n",
              "      <td>21</td>\n",
              "      <td>1</td>\n",
              "      <td>Premium</td>\n",
              "      <td>280000</td>\n",
              "      <td>16420</td>\n",
              "      <td>22</td>\n",
              "      <td>3</td>\n",
              "    </tr>\n",
              "    <tr>\n",
              "      <th>336</th>\n",
              "      <td>63762180</td>\n",
              "      <td>8528-6154-7390-5081</td>\n",
              "      <td>2016-12-05</td>\n",
              "      <td>44550</td>\n",
              "      <td>15</td>\n",
              "      <td>1</td>\n",
              "      <td>Premium</td>\n",
              "      <td>686000</td>\n",
              "      <td>90833</td>\n",
              "      <td>32</td>\n",
              "      <td>1</td>\n",
              "    </tr>\n",
              "    <tr>\n",
              "      <th>494</th>\n",
              "      <td>76723439</td>\n",
              "      <td>7908-2695-7391-7499</td>\n",
              "      <td>2016-09-15</td>\n",
              "      <td>48275</td>\n",
              "      <td>16</td>\n",
              "      <td>1</td>\n",
              "      <td>Gold</td>\n",
              "      <td>34000</td>\n",
              "      <td>53797</td>\n",
              "      <td>35</td>\n",
              "      <td>1</td>\n",
              "    </tr>\n",
              "    <tr>\n",
              "      <th>560</th>\n",
              "      <td>21246201</td>\n",
              "      <td>2524-4184-5908-6750</td>\n",
              "      <td>2016-02-29</td>\n",
              "      <td>35751</td>\n",
              "      <td>25</td>\n",
              "      <td>1</td>\n",
              "      <td>Platinum</td>\n",
              "      <td>150000</td>\n",
              "      <td>69171</td>\n",
              "      <td>41</td>\n",
              "      <td>1</td>\n",
              "    </tr>\n",
              "  </tbody>\n",
              "</table>\n",
              "</div>"
            ],
            "text/plain": [
              "           id          card_number  ... age  vintage_group\n",
              "102  50558449  4246-1369-3659-8804  ...  43              2\n",
              "219  55936882  1336-9200-1264-2551  ...  22              3\n",
              "336  63762180  8528-6154-7390-5081  ...  32              1\n",
              "494  76723439  7908-2695-7391-7499  ...  35              1\n",
              "560  21246201  2524-4184-5908-6750  ...  41              1\n",
              "\n",
              "[5 rows x 11 columns]"
            ]
          },
          "metadata": {
            "tags": []
          },
          "execution_count": 238
        }
      ]
    },
    {
      "cell_type": "markdown",
      "metadata": {
        "id": "Uapzv1vUp9A5"
      },
      "source": [
        "## Questions"
      ]
    },
    {
      "cell_type": "markdown",
      "metadata": {
        "id": "GIVEFH1moXAZ"
      },
      "source": [
        "####What is the average `age` of the customers in the database?\r\n",
        "\r\n",
        "As we can see in the dataframe below, the average of customers age is 35 years.\r\n",
        "\r\n",
        "\r\n"
      ]
    },
    {
      "cell_type": "code",
      "metadata": {
        "colab": {
          "base_uri": "https://localhost:8080/",
          "height": 0
        },
        "id": "HUAxj32Q9B1G",
        "outputId": "0e50d882-218c-4125-a57c-dacef713329f"
      },
      "source": [
        "customers.describe()"
      ],
      "execution_count": 239,
      "outputs": [
        {
          "output_type": "execute_result",
          "data": {
            "text/html": [
              "<div>\n",
              "<style scoped>\n",
              "    .dataframe tbody tr th:only-of-type {\n",
              "        vertical-align: middle;\n",
              "    }\n",
              "\n",
              "    .dataframe tbody tr th {\n",
              "        vertical-align: top;\n",
              "    }\n",
              "\n",
              "    .dataframe thead th {\n",
              "        text-align: right;\n",
              "    }\n",
              "</style>\n",
              "<table border=\"1\" class=\"dataframe\">\n",
              "  <thead>\n",
              "    <tr style=\"text-align: right;\">\n",
              "      <th></th>\n",
              "      <th>age</th>\n",
              "    </tr>\n",
              "  </thead>\n",
              "  <tbody>\n",
              "    <tr>\n",
              "      <th>count</th>\n",
              "      <td>5674.000000</td>\n",
              "    </tr>\n",
              "    <tr>\n",
              "      <th>mean</th>\n",
              "      <td>35.059922</td>\n",
              "    </tr>\n",
              "    <tr>\n",
              "      <th>std</th>\n",
              "      <td>8.962637</td>\n",
              "    </tr>\n",
              "    <tr>\n",
              "      <th>min</th>\n",
              "      <td>20.000000</td>\n",
              "    </tr>\n",
              "    <tr>\n",
              "      <th>25%</th>\n",
              "      <td>27.000000</td>\n",
              "    </tr>\n",
              "    <tr>\n",
              "      <th>50%</th>\n",
              "      <td>35.000000</td>\n",
              "    </tr>\n",
              "    <tr>\n",
              "      <th>75%</th>\n",
              "      <td>43.000000</td>\n",
              "    </tr>\n",
              "    <tr>\n",
              "      <th>max</th>\n",
              "      <td>50.000000</td>\n",
              "    </tr>\n",
              "  </tbody>\n",
              "</table>\n",
              "</div>"
            ],
            "text/plain": [
              "               age\n",
              "count  5674.000000\n",
              "mean     35.059922\n",
              "std       8.962637\n",
              "min      20.000000\n",
              "25%      27.000000\n",
              "50%      35.000000\n",
              "75%      43.000000\n",
              "max      50.000000"
            ]
          },
          "metadata": {
            "tags": []
          },
          "execution_count": 239
        }
      ]
    },
    {
      "cell_type": "markdown",
      "metadata": {
        "id": "QEMknBPiouSb"
      },
      "source": [
        "####How is the `card_family` ranked based on the `credit_limit` given to each card?\r\n",
        "\r\n",
        "Premium, Platinum and Gold, from the family with the most mean credit limit to the lowest.\r\n"
      ]
    },
    {
      "cell_type": "code",
      "metadata": {
        "colab": {
          "base_uri": "https://localhost:8080/",
          "height": 171
        },
        "id": "UPaSwaw19Kpu",
        "outputId": "b3b9a88b-7ec5-4809-e53c-fecebc3e73e0"
      },
      "source": [
        "cards.groupby(\"card_family\").mean().sort_values('credit_limit',ascending=False)"
      ],
      "execution_count": 240,
      "outputs": [
        {
          "output_type": "execute_result",
          "data": {
            "text/html": [
              "<div>\n",
              "<style scoped>\n",
              "    .dataframe tbody tr th:only-of-type {\n",
              "        vertical-align: middle;\n",
              "    }\n",
              "\n",
              "    .dataframe tbody tr th {\n",
              "        vertical-align: top;\n",
              "    }\n",
              "\n",
              "    .dataframe thead th {\n",
              "        text-align: right;\n",
              "    }\n",
              "</style>\n",
              "<table border=\"1\" class=\"dataframe\">\n",
              "  <thead>\n",
              "    <tr style=\"text-align: right;\">\n",
              "      <th></th>\n",
              "      <th>credit_limit</th>\n",
              "    </tr>\n",
              "    <tr>\n",
              "      <th>card_family</th>\n",
              "      <th></th>\n",
              "    </tr>\n",
              "  </thead>\n",
              "  <tbody>\n",
              "    <tr>\n",
              "      <th>Premium</th>\n",
              "      <td>514763.285024</td>\n",
              "    </tr>\n",
              "    <tr>\n",
              "      <th>Platinum</th>\n",
              "      <td>131294.642857</td>\n",
              "    </tr>\n",
              "    <tr>\n",
              "      <th>Gold</th>\n",
              "      <td>27878.453039</td>\n",
              "    </tr>\n",
              "  </tbody>\n",
              "</table>\n",
              "</div>"
            ],
            "text/plain": [
              "              credit_limit\n",
              "card_family               \n",
              "Premium      514763.285024\n",
              "Platinum     131294.642857\n",
              "Gold          27878.453039"
            ]
          },
          "metadata": {
            "tags": []
          },
          "execution_count": 240
        }
      ]
    },
    {
      "cell_type": "markdown",
      "metadata": {
        "id": "RjJ1qJw_pb2C"
      },
      "source": [
        "####For the transactions flagged as fraud, what are the `id`s of the transactions with the highest value?\r\n",
        "\r\n"
      ]
    },
    {
      "cell_type": "code",
      "metadata": {
        "colab": {
          "base_uri": "https://localhost:8080/",
          "height": 202
        },
        "id": "jdS0npUr_yaZ",
        "outputId": "216ef5ef-aa24-4589-8533-5ac87e46c2d3"
      },
      "source": [
        "transactions.head()"
      ],
      "execution_count": 241,
      "outputs": [
        {
          "output_type": "execute_result",
          "data": {
            "text/html": [
              "<div>\n",
              "<style scoped>\n",
              "    .dataframe tbody tr th:only-of-type {\n",
              "        vertical-align: middle;\n",
              "    }\n",
              "\n",
              "    .dataframe tbody tr th {\n",
              "        vertical-align: top;\n",
              "    }\n",
              "\n",
              "    .dataframe thead th {\n",
              "        text-align: right;\n",
              "    }\n",
              "</style>\n",
              "<table border=\"1\" class=\"dataframe\">\n",
              "  <thead>\n",
              "    <tr style=\"text-align: right;\">\n",
              "      <th></th>\n",
              "      <th>id</th>\n",
              "      <th>card_number</th>\n",
              "      <th>transaction_date</th>\n",
              "      <th>value</th>\n",
              "      <th>segment</th>\n",
              "      <th>fraud_flag</th>\n",
              "      <th>card_family</th>\n",
              "      <th>credit_limit</th>\n",
              "      <th>customer_id</th>\n",
              "      <th>age</th>\n",
              "      <th>vintage_group</th>\n",
              "    </tr>\n",
              "  </thead>\n",
              "  <tbody>\n",
              "    <tr>\n",
              "      <th>0</th>\n",
              "      <td>28830551</td>\n",
              "      <td>1629-9566-3285-2123</td>\n",
              "      <td>2016-04-24</td>\n",
              "      <td>23649</td>\n",
              "      <td>25</td>\n",
              "      <td>0</td>\n",
              "      <td>Platinum</td>\n",
              "      <td>194000</td>\n",
              "      <td>24544</td>\n",
              "      <td>23</td>\n",
              "      <td>3</td>\n",
              "    </tr>\n",
              "    <tr>\n",
              "      <th>1</th>\n",
              "      <td>45504917</td>\n",
              "      <td>3697-6001-4909-5350</td>\n",
              "      <td>2016-02-11</td>\n",
              "      <td>26726</td>\n",
              "      <td>16</td>\n",
              "      <td>0</td>\n",
              "      <td>Gold</td>\n",
              "      <td>15000</td>\n",
              "      <td>62261</td>\n",
              "      <td>48</td>\n",
              "      <td>3</td>\n",
              "    </tr>\n",
              "    <tr>\n",
              "      <th>2</th>\n",
              "      <td>47312290</td>\n",
              "      <td>5864-4475-3659-1440</td>\n",
              "      <td>2016-11-01</td>\n",
              "      <td>22012</td>\n",
              "      <td>14</td>\n",
              "      <td>0</td>\n",
              "      <td>Gold</td>\n",
              "      <td>2000</td>\n",
              "      <td>99402</td>\n",
              "      <td>23</td>\n",
              "      <td>1</td>\n",
              "    </tr>\n",
              "    <tr>\n",
              "      <th>3</th>\n",
              "      <td>25637718</td>\n",
              "      <td>5991-4421-8476-3804</td>\n",
              "      <td>2016-01-28</td>\n",
              "      <td>37637</td>\n",
              "      <td>17</td>\n",
              "      <td>0</td>\n",
              "      <td>Gold</td>\n",
              "      <td>19000</td>\n",
              "      <td>14871</td>\n",
              "      <td>44</td>\n",
              "      <td>2</td>\n",
              "    </tr>\n",
              "    <tr>\n",
              "      <th>4</th>\n",
              "      <td>66743960</td>\n",
              "      <td>1893-8853-9900-8478</td>\n",
              "      <td>2016-03-17</td>\n",
              "      <td>5113</td>\n",
              "      <td>14</td>\n",
              "      <td>0</td>\n",
              "      <td>Premium</td>\n",
              "      <td>417000</td>\n",
              "      <td>11165</td>\n",
              "      <td>42</td>\n",
              "      <td>3</td>\n",
              "    </tr>\n",
              "  </tbody>\n",
              "</table>\n",
              "</div>"
            ],
            "text/plain": [
              "         id          card_number  ... age  vintage_group\n",
              "0  28830551  1629-9566-3285-2123  ...  23              3\n",
              "1  45504917  3697-6001-4909-5350  ...  48              3\n",
              "2  47312290  5864-4475-3659-1440  ...  23              1\n",
              "3  25637718  5991-4421-8476-3804  ...  44              2\n",
              "4  66743960  1893-8853-9900-8478  ...  42              3\n",
              "\n",
              "[5 rows x 11 columns]"
            ]
          },
          "metadata": {
            "tags": []
          },
          "execution_count": 241
        }
      ]
    },
    {
      "cell_type": "code",
      "metadata": {
        "colab": {
          "base_uri": "https://localhost:8080/",
          "height": 355
        },
        "id": "bPK0kXirAQQP",
        "outputId": "5aa5f176-c936-4cc7-a374-26962aa81d7a"
      },
      "source": [
        "frauds.sort_values('value',ascending=False)[:10]"
      ],
      "execution_count": 242,
      "outputs": [
        {
          "output_type": "execute_result",
          "data": {
            "text/html": [
              "<div>\n",
              "<style scoped>\n",
              "    .dataframe tbody tr th:only-of-type {\n",
              "        vertical-align: middle;\n",
              "    }\n",
              "\n",
              "    .dataframe tbody tr th {\n",
              "        vertical-align: top;\n",
              "    }\n",
              "\n",
              "    .dataframe thead th {\n",
              "        text-align: right;\n",
              "    }\n",
              "</style>\n",
              "<table border=\"1\" class=\"dataframe\">\n",
              "  <thead>\n",
              "    <tr style=\"text-align: right;\">\n",
              "      <th></th>\n",
              "      <th>id</th>\n",
              "      <th>card_number</th>\n",
              "      <th>transaction_date</th>\n",
              "      <th>value</th>\n",
              "      <th>segment</th>\n",
              "      <th>fraud_flag</th>\n",
              "      <th>card_family</th>\n",
              "      <th>credit_limit</th>\n",
              "      <th>customer_id</th>\n",
              "      <th>age</th>\n",
              "      <th>vintage_group</th>\n",
              "    </tr>\n",
              "  </thead>\n",
              "  <tbody>\n",
              "    <tr>\n",
              "      <th>600</th>\n",
              "      <td>20567160</td>\n",
              "      <td>3295-6390-4452-7199</td>\n",
              "      <td>2016-10-08</td>\n",
              "      <td>49155</td>\n",
              "      <td>16</td>\n",
              "      <td>1</td>\n",
              "      <td>Gold</td>\n",
              "      <td>6000</td>\n",
              "      <td>76008</td>\n",
              "      <td>42</td>\n",
              "      <td>1</td>\n",
              "    </tr>\n",
              "    <tr>\n",
              "      <th>9619</th>\n",
              "      <td>15034243</td>\n",
              "      <td>4562-2665-7578-1931</td>\n",
              "      <td>2016-02-14</td>\n",
              "      <td>48845</td>\n",
              "      <td>19</td>\n",
              "      <td>1</td>\n",
              "      <td>Premium</td>\n",
              "      <td>781000</td>\n",
              "      <td>19186</td>\n",
              "      <td>30</td>\n",
              "      <td>1</td>\n",
              "    </tr>\n",
              "    <tr>\n",
              "      <th>4552</th>\n",
              "      <td>95884307</td>\n",
              "      <td>2017-7197-7814-9950</td>\n",
              "      <td>2016-11-07</td>\n",
              "      <td>48588</td>\n",
              "      <td>16</td>\n",
              "      <td>1</td>\n",
              "      <td>Platinum</td>\n",
              "      <td>163000</td>\n",
              "      <td>93684</td>\n",
              "      <td>22</td>\n",
              "      <td>3</td>\n",
              "    </tr>\n",
              "    <tr>\n",
              "      <th>646</th>\n",
              "      <td>54759604</td>\n",
              "      <td>8262-8743-6406-7105</td>\n",
              "      <td>2016-09-07</td>\n",
              "      <td>48567</td>\n",
              "      <td>20</td>\n",
              "      <td>1</td>\n",
              "      <td>Premium</td>\n",
              "      <td>331000</td>\n",
              "      <td>30400</td>\n",
              "      <td>27</td>\n",
              "      <td>1</td>\n",
              "    </tr>\n",
              "    <tr>\n",
              "      <th>4142</th>\n",
              "      <td>55429304</td>\n",
              "      <td>9030-1667-6058-6173</td>\n",
              "      <td>2016-03-03</td>\n",
              "      <td>48514</td>\n",
              "      <td>15</td>\n",
              "      <td>1</td>\n",
              "      <td>Premium</td>\n",
              "      <td>426000</td>\n",
              "      <td>61186</td>\n",
              "      <td>41</td>\n",
              "      <td>1</td>\n",
              "    </tr>\n",
              "    <tr>\n",
              "      <th>2529</th>\n",
              "      <td>29469747</td>\n",
              "      <td>9930-4634-8565-6716</td>\n",
              "      <td>2016-11-15</td>\n",
              "      <td>48453</td>\n",
              "      <td>12</td>\n",
              "      <td>1</td>\n",
              "      <td>Premium</td>\n",
              "      <td>492000</td>\n",
              "      <td>41731</td>\n",
              "      <td>35</td>\n",
              "      <td>1</td>\n",
              "    </tr>\n",
              "    <tr>\n",
              "      <th>494</th>\n",
              "      <td>76723439</td>\n",
              "      <td>7908-2695-7391-7499</td>\n",
              "      <td>2016-09-15</td>\n",
              "      <td>48275</td>\n",
              "      <td>16</td>\n",
              "      <td>1</td>\n",
              "      <td>Gold</td>\n",
              "      <td>34000</td>\n",
              "      <td>53797</td>\n",
              "      <td>35</td>\n",
              "      <td>1</td>\n",
              "    </tr>\n",
              "    <tr>\n",
              "      <th>6387</th>\n",
              "      <td>85085771</td>\n",
              "      <td>2077-2389-7798-4862</td>\n",
              "      <td>2016-04-22</td>\n",
              "      <td>48186</td>\n",
              "      <td>11</td>\n",
              "      <td>1</td>\n",
              "      <td>Premium</td>\n",
              "      <td>642000</td>\n",
              "      <td>19277</td>\n",
              "      <td>41</td>\n",
              "      <td>1</td>\n",
              "    </tr>\n",
              "    <tr>\n",
              "      <th>2214</th>\n",
              "      <td>25962688</td>\n",
              "      <td>1466-1600-9312-7604</td>\n",
              "      <td>2016-08-18</td>\n",
              "      <td>45807</td>\n",
              "      <td>20</td>\n",
              "      <td>1</td>\n",
              "      <td>Premium</td>\n",
              "      <td>249000</td>\n",
              "      <td>60926</td>\n",
              "      <td>24</td>\n",
              "      <td>1</td>\n",
              "    </tr>\n",
              "    <tr>\n",
              "      <th>2009</th>\n",
              "      <td>60575167</td>\n",
              "      <td>9386-8854-6115-4075</td>\n",
              "      <td>2016-06-18</td>\n",
              "      <td>45760</td>\n",
              "      <td>23</td>\n",
              "      <td>1</td>\n",
              "      <td>Gold</td>\n",
              "      <td>20000</td>\n",
              "      <td>35402</td>\n",
              "      <td>26</td>\n",
              "      <td>1</td>\n",
              "    </tr>\n",
              "  </tbody>\n",
              "</table>\n",
              "</div>"
            ],
            "text/plain": [
              "            id          card_number  ... age  vintage_group\n",
              "600   20567160  3295-6390-4452-7199  ...  42              1\n",
              "9619  15034243  4562-2665-7578-1931  ...  30              1\n",
              "4552  95884307  2017-7197-7814-9950  ...  22              3\n",
              "646   54759604  8262-8743-6406-7105  ...  27              1\n",
              "4142  55429304  9030-1667-6058-6173  ...  41              1\n",
              "2529  29469747  9930-4634-8565-6716  ...  35              1\n",
              "494   76723439  7908-2695-7391-7499  ...  35              1\n",
              "6387  85085771  2077-2389-7798-4862  ...  41              1\n",
              "2214  25962688  1466-1600-9312-7604  ...  24              1\n",
              "2009  60575167  9386-8854-6115-4075  ...  26              1\n",
              "\n",
              "[10 rows x 11 columns]"
            ]
          },
          "metadata": {
            "tags": []
          },
          "execution_count": 242
        }
      ]
    },
    {
      "cell_type": "markdown",
      "metadata": {
        "id": "EUDpZaCmptAU"
      },
      "source": [
        "Here is the ids of 10 transactions with the highest value."
      ]
    },
    {
      "cell_type": "code",
      "metadata": {
        "colab": {
          "base_uri": "https://localhost:8080/"
        },
        "id": "JLKxA1-Opmdb",
        "outputId": "e505709e-2620-4085-8aaf-cbc11df33de2"
      },
      "source": [
        "frauds.sort_values('value',ascending=False)[:10][\"id\"]"
      ],
      "execution_count": 243,
      "outputs": [
        {
          "output_type": "execute_result",
          "data": {
            "text/plain": [
              "600     20567160\n",
              "9619    15034243\n",
              "4552    95884307\n",
              "646     54759604\n",
              "4142    55429304\n",
              "2529    29469747\n",
              "494     76723439\n",
              "6387    85085771\n",
              "2214    25962688\n",
              "2009    60575167\n",
              "Name: id, dtype: int64"
            ]
          },
          "metadata": {
            "tags": []
          },
          "execution_count": 243
        }
      ]
    },
    {
      "cell_type": "code",
      "metadata": {
        "id": "RcRcHldwa6-1"
      },
      "source": [],
      "execution_count": 243,
      "outputs": []
    },
    {
      "cell_type": "markdown",
      "metadata": {
        "id": "vz7zQqpSqEYX"
      },
      "source": [
        "## Analysis and exploration"
      ]
    },
    {
      "cell_type": "markdown",
      "metadata": {
        "id": "b2Xd0Gb4r3JA"
      },
      "source": [
        "Trying correlation in numeric classes."
      ]
    },
    {
      "cell_type": "code",
      "metadata": {
        "colab": {
          "base_uri": "https://localhost:8080/",
          "height": 294
        },
        "id": "lU06RIfDOdDi",
        "outputId": "0e67753b-90af-411d-f25f-efab2c35b613"
      },
      "source": [
        "transactions.corr()"
      ],
      "execution_count": 244,
      "outputs": [
        {
          "output_type": "execute_result",
          "data": {
            "text/html": [
              "<div>\n",
              "<style scoped>\n",
              "    .dataframe tbody tr th:only-of-type {\n",
              "        vertical-align: middle;\n",
              "    }\n",
              "\n",
              "    .dataframe tbody tr th {\n",
              "        vertical-align: top;\n",
              "    }\n",
              "\n",
              "    .dataframe thead th {\n",
              "        text-align: right;\n",
              "    }\n",
              "</style>\n",
              "<table border=\"1\" class=\"dataframe\">\n",
              "  <thead>\n",
              "    <tr style=\"text-align: right;\">\n",
              "      <th></th>\n",
              "      <th>id</th>\n",
              "      <th>value</th>\n",
              "      <th>segment</th>\n",
              "      <th>fraud_flag</th>\n",
              "      <th>credit_limit</th>\n",
              "      <th>customer_id</th>\n",
              "      <th>age</th>\n",
              "      <th>vintage_group</th>\n",
              "    </tr>\n",
              "  </thead>\n",
              "  <tbody>\n",
              "    <tr>\n",
              "      <th>id</th>\n",
              "      <td>1.000000</td>\n",
              "      <td>-0.007913</td>\n",
              "      <td>-0.008305</td>\n",
              "      <td>0.002150</td>\n",
              "      <td>0.000386</td>\n",
              "      <td>-0.003637</td>\n",
              "      <td>0.021511</td>\n",
              "      <td>0.007628</td>\n",
              "    </tr>\n",
              "    <tr>\n",
              "      <th>value</th>\n",
              "      <td>-0.007913</td>\n",
              "      <td>1.000000</td>\n",
              "      <td>-0.005766</td>\n",
              "      <td>0.014976</td>\n",
              "      <td>-0.006661</td>\n",
              "      <td>-0.008684</td>\n",
              "      <td>-0.001739</td>\n",
              "      <td>-0.000227</td>\n",
              "    </tr>\n",
              "    <tr>\n",
              "      <th>segment</th>\n",
              "      <td>-0.008305</td>\n",
              "      <td>-0.005766</td>\n",
              "      <td>1.000000</td>\n",
              "      <td>-0.002513</td>\n",
              "      <td>-0.001269</td>\n",
              "      <td>-0.006607</td>\n",
              "      <td>-0.004522</td>\n",
              "      <td>-0.002813</td>\n",
              "    </tr>\n",
              "    <tr>\n",
              "      <th>fraud_flag</th>\n",
              "      <td>0.002150</td>\n",
              "      <td>0.014976</td>\n",
              "      <td>-0.002513</td>\n",
              "      <td>1.000000</td>\n",
              "      <td>-0.005704</td>\n",
              "      <td>-0.002237</td>\n",
              "      <td>-0.006525</td>\n",
              "      <td>-0.015316</td>\n",
              "    </tr>\n",
              "    <tr>\n",
              "      <th>credit_limit</th>\n",
              "      <td>0.000386</td>\n",
              "      <td>-0.006661</td>\n",
              "      <td>-0.001269</td>\n",
              "      <td>-0.005704</td>\n",
              "      <td>1.000000</td>\n",
              "      <td>0.038599</td>\n",
              "      <td>-0.012878</td>\n",
              "      <td>0.023470</td>\n",
              "    </tr>\n",
              "    <tr>\n",
              "      <th>customer_id</th>\n",
              "      <td>-0.003637</td>\n",
              "      <td>-0.008684</td>\n",
              "      <td>-0.006607</td>\n",
              "      <td>-0.002237</td>\n",
              "      <td>0.038599</td>\n",
              "      <td>1.000000</td>\n",
              "      <td>-0.040043</td>\n",
              "      <td>-0.032154</td>\n",
              "    </tr>\n",
              "    <tr>\n",
              "      <th>age</th>\n",
              "      <td>0.021511</td>\n",
              "      <td>-0.001739</td>\n",
              "      <td>-0.004522</td>\n",
              "      <td>-0.006525</td>\n",
              "      <td>-0.012878</td>\n",
              "      <td>-0.040043</td>\n",
              "      <td>1.000000</td>\n",
              "      <td>0.029391</td>\n",
              "    </tr>\n",
              "    <tr>\n",
              "      <th>vintage_group</th>\n",
              "      <td>0.007628</td>\n",
              "      <td>-0.000227</td>\n",
              "      <td>-0.002813</td>\n",
              "      <td>-0.015316</td>\n",
              "      <td>0.023470</td>\n",
              "      <td>-0.032154</td>\n",
              "      <td>0.029391</td>\n",
              "      <td>1.000000</td>\n",
              "    </tr>\n",
              "  </tbody>\n",
              "</table>\n",
              "</div>"
            ],
            "text/plain": [
              "                     id     value  ...       age  vintage_group\n",
              "id             1.000000 -0.007913  ...  0.021511       0.007628\n",
              "value         -0.007913  1.000000  ... -0.001739      -0.000227\n",
              "segment       -0.008305 -0.005766  ... -0.004522      -0.002813\n",
              "fraud_flag     0.002150  0.014976  ... -0.006525      -0.015316\n",
              "credit_limit   0.000386 -0.006661  ... -0.012878       0.023470\n",
              "customer_id   -0.003637 -0.008684  ... -0.040043      -0.032154\n",
              "age            0.021511 -0.001739  ...  1.000000       0.029391\n",
              "vintage_group  0.007628 -0.000227  ...  0.029391       1.000000\n",
              "\n",
              "[8 rows x 8 columns]"
            ]
          },
          "metadata": {
            "tags": []
          },
          "execution_count": 244
        }
      ]
    },
    {
      "cell_type": "code",
      "metadata": {
        "colab": {
          "base_uri": "https://localhost:8080/",
          "height": 294
        },
        "id": "n0-0IixOvPko",
        "outputId": "1c73b90d-e6de-48a1-ee75-5968a301f305"
      },
      "source": [
        "frauds.corr()"
      ],
      "execution_count": 245,
      "outputs": [
        {
          "output_type": "execute_result",
          "data": {
            "text/html": [
              "<div>\n",
              "<style scoped>\n",
              "    .dataframe tbody tr th:only-of-type {\n",
              "        vertical-align: middle;\n",
              "    }\n",
              "\n",
              "    .dataframe tbody tr th {\n",
              "        vertical-align: top;\n",
              "    }\n",
              "\n",
              "    .dataframe thead th {\n",
              "        text-align: right;\n",
              "    }\n",
              "</style>\n",
              "<table border=\"1\" class=\"dataframe\">\n",
              "  <thead>\n",
              "    <tr style=\"text-align: right;\">\n",
              "      <th></th>\n",
              "      <th>id</th>\n",
              "      <th>value</th>\n",
              "      <th>segment</th>\n",
              "      <th>fraud_flag</th>\n",
              "      <th>credit_limit</th>\n",
              "      <th>customer_id</th>\n",
              "      <th>age</th>\n",
              "      <th>vintage_group</th>\n",
              "    </tr>\n",
              "  </thead>\n",
              "  <tbody>\n",
              "    <tr>\n",
              "      <th>id</th>\n",
              "      <td>1.000000</td>\n",
              "      <td>-0.000495</td>\n",
              "      <td>-0.230282</td>\n",
              "      <td>NaN</td>\n",
              "      <td>0.128734</td>\n",
              "      <td>0.001467</td>\n",
              "      <td>-0.036382</td>\n",
              "      <td>-0.008273</td>\n",
              "    </tr>\n",
              "    <tr>\n",
              "      <th>value</th>\n",
              "      <td>-0.000495</td>\n",
              "      <td>1.000000</td>\n",
              "      <td>-0.038374</td>\n",
              "      <td>NaN</td>\n",
              "      <td>0.057320</td>\n",
              "      <td>0.085491</td>\n",
              "      <td>-0.069942</td>\n",
              "      <td>-0.208139</td>\n",
              "    </tr>\n",
              "    <tr>\n",
              "      <th>segment</th>\n",
              "      <td>-0.230282</td>\n",
              "      <td>-0.038374</td>\n",
              "      <td>1.000000</td>\n",
              "      <td>NaN</td>\n",
              "      <td>-0.065118</td>\n",
              "      <td>-0.076798</td>\n",
              "      <td>-0.111959</td>\n",
              "      <td>0.057084</td>\n",
              "    </tr>\n",
              "    <tr>\n",
              "      <th>fraud_flag</th>\n",
              "      <td>NaN</td>\n",
              "      <td>NaN</td>\n",
              "      <td>NaN</td>\n",
              "      <td>NaN</td>\n",
              "      <td>NaN</td>\n",
              "      <td>NaN</td>\n",
              "      <td>NaN</td>\n",
              "      <td>NaN</td>\n",
              "    </tr>\n",
              "    <tr>\n",
              "      <th>credit_limit</th>\n",
              "      <td>0.128734</td>\n",
              "      <td>0.057320</td>\n",
              "      <td>-0.065118</td>\n",
              "      <td>NaN</td>\n",
              "      <td>1.000000</td>\n",
              "      <td>-0.090198</td>\n",
              "      <td>0.073484</td>\n",
              "      <td>0.035469</td>\n",
              "    </tr>\n",
              "    <tr>\n",
              "      <th>customer_id</th>\n",
              "      <td>0.001467</td>\n",
              "      <td>0.085491</td>\n",
              "      <td>-0.076798</td>\n",
              "      <td>NaN</td>\n",
              "      <td>-0.090198</td>\n",
              "      <td>1.000000</td>\n",
              "      <td>0.045532</td>\n",
              "      <td>0.010682</td>\n",
              "    </tr>\n",
              "    <tr>\n",
              "      <th>age</th>\n",
              "      <td>-0.036382</td>\n",
              "      <td>-0.069942</td>\n",
              "      <td>-0.111959</td>\n",
              "      <td>NaN</td>\n",
              "      <td>0.073484</td>\n",
              "      <td>0.045532</td>\n",
              "      <td>1.000000</td>\n",
              "      <td>-0.161534</td>\n",
              "    </tr>\n",
              "    <tr>\n",
              "      <th>vintage_group</th>\n",
              "      <td>-0.008273</td>\n",
              "      <td>-0.208139</td>\n",
              "      <td>0.057084</td>\n",
              "      <td>NaN</td>\n",
              "      <td>0.035469</td>\n",
              "      <td>0.010682</td>\n",
              "      <td>-0.161534</td>\n",
              "      <td>1.000000</td>\n",
              "    </tr>\n",
              "  </tbody>\n",
              "</table>\n",
              "</div>"
            ],
            "text/plain": [
              "                     id     value  ...       age  vintage_group\n",
              "id             1.000000 -0.000495  ... -0.036382      -0.008273\n",
              "value         -0.000495  1.000000  ... -0.069942      -0.208139\n",
              "segment       -0.230282 -0.038374  ... -0.111959       0.057084\n",
              "fraud_flag          NaN       NaN  ...       NaN            NaN\n",
              "credit_limit   0.128734  0.057320  ...  0.073484       0.035469\n",
              "customer_id    0.001467  0.085491  ...  0.045532       0.010682\n",
              "age           -0.036382 -0.069942  ...  1.000000      -0.161534\n",
              "vintage_group -0.008273 -0.208139  ... -0.161534       1.000000\n",
              "\n",
              "[8 rows x 8 columns]"
            ]
          },
          "metadata": {
            "tags": []
          },
          "execution_count": 245
        }
      ]
    },
    {
      "cell_type": "markdown",
      "metadata": {
        "id": "vcFJVlMaxhti"
      },
      "source": [
        "Trying to discover if some class has more frauds than others, ploting some histograms to see the distribution of classes and calculating the percent of frauds with some especific class."
      ]
    },
    {
      "cell_type": "markdown",
      "metadata": {
        "id": "_5Zr3qYya6-2"
      },
      "source": [
        "Analysing `segment`"
      ]
    },
    {
      "cell_type": "code",
      "metadata": {
        "colab": {
          "base_uri": "https://localhost:8080/"
        },
        "id": "eNq342Gbkn7F",
        "outputId": "8fe6487d-1694-4161-9a2b-aaca7c3baa4f"
      },
      "source": [
        "transactions.groupby('segment').sum()[\"fraud_flag\"]"
      ],
      "execution_count": 246,
      "outputs": [
        {
          "output_type": "execute_result",
          "data": {
            "text/plain": [
              "segment\n",
              "11    15\n",
              "12     6\n",
              "13     4\n",
              "14     6\n",
              "15     6\n",
              "16     8\n",
              "17     8\n",
              "18     4\n",
              "19     3\n",
              "20     6\n",
              "21    10\n",
              "22     9\n",
              "23    12\n",
              "24     8\n",
              "25     4\n",
              "Name: fraud_flag, dtype: int64"
            ]
          },
          "metadata": {
            "tags": []
          },
          "execution_count": 246
        }
      ]
    },
    {
      "cell_type": "code",
      "metadata": {
        "colab": {
          "base_uri": "https://localhost:8080/"
        },
        "id": "ikXTjKkGPjul",
        "outputId": "c72402ad-fd85-46ed-abd4-8662c6bdc47e"
      },
      "source": [
        "transactions.groupby('segment').sum()[\"fraud_flag\"]/transactions.groupby('segment').count()[\"fraud_flag\"]"
      ],
      "execution_count": 247,
      "outputs": [
        {
          "output_type": "execute_result",
          "data": {
            "text/plain": [
              "segment\n",
              "11    0.022762\n",
              "12    0.008633\n",
              "13    0.005891\n",
              "14    0.009631\n",
              "15    0.008785\n",
              "16    0.011994\n",
              "17    0.012289\n",
              "18    0.005865\n",
              "19    0.004559\n",
              "20    0.008982\n",
              "21    0.015798\n",
              "22    0.014241\n",
              "23    0.016949\n",
              "24    0.011958\n",
              "25    0.005772\n",
              "Name: fraud_flag, dtype: float64"
            ]
          },
          "metadata": {
            "tags": []
          },
          "execution_count": 247
        }
      ]
    },
    {
      "cell_type": "markdown",
      "metadata": {
        "id": "7Z1luc03a6-3"
      },
      "source": [
        "Analysing `transaction_date`"
      ]
    },
    {
      "cell_type": "code",
      "metadata": {
        "colab": {
          "base_uri": "https://localhost:8080/"
        },
        "id": "AYjjJ48nQMuN",
        "outputId": "92356c58-59c6-48ca-89ab-277911677386"
      },
      "source": [
        "transactions.groupby('transaction_date').sum().sort_values('fraud_flag', ascending=False).loc[transactions.groupby('transaction_date').sum()[\"fraud_flag\"] > 0][\"fraud_flag\"]"
      ],
      "execution_count": 248,
      "outputs": [
        {
          "output_type": "execute_result",
          "data": {
            "text/plain": [
              "transaction_date\n",
              "2016-12-31    2\n",
              "2016-05-25    2\n",
              "2016-03-11    2\n",
              "2016-02-17    2\n",
              "2016-03-16    2\n",
              "             ..\n",
              "2016-01-17    1\n",
              "2016-07-24    1\n",
              "2016-11-29    1\n",
              "2016-02-14    1\n",
              "2016-08-18    1\n",
              "Name: fraud_flag, Length: 95, dtype: int64"
            ]
          },
          "metadata": {
            "tags": []
          },
          "execution_count": 248
        }
      ]
    },
    {
      "cell_type": "code",
      "metadata": {
        "colab": {
          "base_uri": "https://localhost:8080/",
          "height": 279
        },
        "id": "hpDnIWlc_z0u",
        "outputId": "60c085a0-2d7e-44e0-c987-f18896ce1c02"
      },
      "source": [
        "dates = transactions.loc[transactions[\"fraud_flag\"] > 0][\"transaction_date\"]\r\n",
        "plt.hist(dates, density=True, bins=30)\r\n",
        "plt.ylabel('Probability')\r\n",
        "plt.xlabel('Date');"
      ],
      "execution_count": 249,
      "outputs": [
        {
          "output_type": "display_data",
          "data": {
            "image/png": "[encoded data removed]",
            "text/plain": [
              "<Figure size 432x288 with 1 Axes>"
            ]
          },
          "metadata": {
            "tags": [],
            "needs_background": "light"
          }
        }
      ]
    },
    {
      "cell_type": "markdown",
      "metadata": {
        "id": "cbNglPMia6-4"
      },
      "source": [
        "Analysing `card_number`"
      ]
    },
    {
      "cell_type": "code",
      "metadata": {
        "colab": {
          "base_uri": "https://localhost:8080/"
        },
        "id": "NMRN49qMR2XE",
        "outputId": "4c8b58e2-ee26-419a-a803-8b54e93d1655"
      },
      "source": [
        "transactions.groupby('card_number').sum().sort_values('fraud_flag', ascending=False).loc[transactions.groupby('card_number').sum()[\"fraud_flag\"] > 0][\"fraud_flag\"]"
      ],
      "execution_count": 250,
      "outputs": [
        {
          "output_type": "execute_result",
          "data": {
            "text/plain": [
              "card_number\n",
              "7697-2274-6431-6408    2\n",
              "1290-5480-3763-3387    2\n",
              "8231-5519-1948-3400    2\n",
              "9604-6821-2861-8084    2\n",
              "3620-5235-2101-3391    2\n",
              "                      ..\n",
              "1519-5130-5810-8539    1\n",
              "9425-1481-6545-6190    1\n",
              "1655-7617-4318-5963    1\n",
              "1661-3809-5334-2155    1\n",
              "9386-8854-6115-4075    1\n",
              "Name: fraud_flag, Length: 98, dtype: int64"
            ]
          },
          "metadata": {
            "tags": []
          },
          "execution_count": 250
        }
      ]
    },
    {
      "cell_type": "markdown",
      "metadata": {
        "id": "vHAhtUQAa6-4"
      },
      "source": [
        "Analysing `card_family`"
      ]
    },
    {
      "cell_type": "code",
      "metadata": {
        "colab": {
          "base_uri": "https://localhost:8080/"
        },
        "id": "kk9hS3QZZ8OL",
        "outputId": "da313dcd-6eca-4e81-9667-791ce49fd304"
      },
      "source": [
        "transactions.groupby('card_family').sum().sort_values('fraud_flag', ascending=False)[\"fraud_flag\"]/transactions.groupby('card_family').count().sort_values('fraud_flag', ascending=False)[\"fraud_flag\"]"
      ],
      "execution_count": 251,
      "outputs": [
        {
          "output_type": "execute_result",
          "data": {
            "text/plain": [
              "card_family\n",
              "Premium     0.010978\n",
              "Gold        0.010726\n",
              "Platinum    0.011038\n",
              "Name: fraud_flag, dtype: float64"
            ]
          },
          "metadata": {
            "tags": []
          },
          "execution_count": 251
        }
      ]
    },
    {
      "cell_type": "code",
      "metadata": {
        "colab": {
          "base_uri": "https://localhost:8080/"
        },
        "id": "lkVqp52slIHV",
        "outputId": "374b9fd7-05a5-49ea-9de1-5051466cba8f"
      },
      "source": [
        "transactions.groupby('card_family').sum().sort_values('fraud_flag', ascending=False)[\"fraud_flag\"]"
      ],
      "execution_count": 252,
      "outputs": [
        {
          "output_type": "execute_result",
          "data": {
            "text/plain": [
              "card_family\n",
              "Premium     45\n",
              "Gold        39\n",
              "Platinum    25\n",
              "Name: fraud_flag, dtype: int64"
            ]
          },
          "metadata": {
            "tags": []
          },
          "execution_count": 252
        }
      ]
    },
    {
      "cell_type": "markdown",
      "metadata": {
        "id": "lq_fUae4a6-4"
      },
      "source": [
        "Analysing `customer_id`"
      ]
    },
    {
      "cell_type": "code",
      "metadata": {
        "colab": {
          "base_uri": "https://localhost:8080/"
        },
        "id": "p54enEKsaBQ7",
        "outputId": "55c2842a-9e5c-4840-8583-a1c0190901cc"
      },
      "source": [
        "transactions.groupby('customer_id').sum().sort_values('fraud_flag', ascending=False)[\"fraud_flag\"]"
      ],
      "execution_count": 253,
      "outputs": [
        {
          "output_type": "execute_result",
          "data": {
            "text/plain": [
              "customer_id\n",
              "36771    2\n",
              "60926    2\n",
              "95072    2\n",
              "16029    2\n",
              "28038    2\n",
              "        ..\n",
              "38739    0\n",
              "38556    0\n",
              "38543    0\n",
              "38368    0\n",
              "99952    0\n",
              "Name: fraud_flag, Length: 482, dtype: int64"
            ]
          },
          "metadata": {
            "tags": []
          },
          "execution_count": 253
        }
      ]
    },
    {
      "cell_type": "code",
      "metadata": {
        "colab": {
          "base_uri": "https://localhost:8080/",
          "height": 290
        },
        "id": "bTFU4tSjgIiu",
        "outputId": "bae0fcb0-bb1e-48be-b1ea-f4f3882103e9"
      },
      "source": [
        "plt.hist(transactions[\"customer_id\"], density=True, bins=100)\r\n",
        "plt.ylabel('Probability')\r\n",
        "plt.xlabel('Data');"
      ],
      "execution_count": 254,
      "outputs": [
        {
          "output_type": "display_data",
          "data": {
            "image/png": "[encoded data removed]",
            "text/plain": [
              "<Figure size 432x288 with 1 Axes>"
            ]
          },
          "metadata": {
            "tags": [],
            "needs_background": "light"
          }
        }
      ]
    },
    {
      "cell_type": "markdown",
      "metadata": {
        "id": "0TCZTbPp38JO"
      },
      "source": [
        "Two hypothesis were that frauds could happen in a row to a customer or just happen one time for customer, but none of them could be confirmed."
      ]
    },
    {
      "cell_type": "code",
      "metadata": {
        "colab": {
          "base_uri": "https://localhost:8080/",
          "height": 279
        },
        "id": "245OorCnchEA",
        "outputId": "772e219d-4cad-4650-ea74-f8edab0ba80d"
      },
      "source": [
        "plt.hist(transactions.groupby('customer_id').sum().sort_values('fraud_flag', ascending=False)[\"fraud_flag\"], density=True, bins=3)\r\n",
        "plt.ylabel('Probability')\r\n",
        "plt.xlabel('Data');"
      ],
      "execution_count": 255,
      "outputs": [
        {
          "output_type": "display_data",
          "data": {
            "image/png": "[encoded data removed]",
            "text/plain": [
              "<Figure size 432x288 with 1 Axes>"
            ]
          },
          "metadata": {
            "tags": [],
            "needs_background": "light"
          }
        }
      ]
    },
    {
      "cell_type": "markdown",
      "metadata": {
        "id": "e8RuOgGHa6-5"
      },
      "source": [
        "Analysing `age`"
      ]
    },
    {
      "cell_type": "code",
      "metadata": {
        "colab": {
          "base_uri": "https://localhost:8080/"
        },
        "id": "G39ynaa4lOfa",
        "outputId": "0b9d0193-7a76-4a34-da4f-ede3c86c5944"
      },
      "source": [
        "transactions.groupby('age').sum().sort_values('fraud_flag', ascending=False)[\"fraud_flag\"]"
      ],
      "execution_count": 256,
      "outputs": [
        {
          "output_type": "execute_result",
          "data": {
            "text/plain": [
              "age\n",
              "42    8\n",
              "41    8\n",
              "30    7\n",
              "48    6\n",
              "32    5\n",
              "22    5\n",
              "24    5\n",
              "39    5\n",
              "29    5\n",
              "35    4\n",
              "33    4\n",
              "50    4\n",
              "31    4\n",
              "23    4\n",
              "37    3\n",
              "27    3\n",
              "38    3\n",
              "26    3\n",
              "36    3\n",
              "40    2\n",
              "25    2\n",
              "43    2\n",
              "46    2\n",
              "47    2\n",
              "34    2\n",
              "49    2\n",
              "20    2\n",
              "21    1\n",
              "28    1\n",
              "44    1\n",
              "45    1\n",
              "Name: fraud_flag, dtype: int64"
            ]
          },
          "metadata": {
            "tags": []
          },
          "execution_count": 256
        }
      ]
    },
    {
      "cell_type": "code",
      "metadata": {
        "colab": {
          "base_uri": "https://localhost:8080/"
        },
        "id": "Em65XTiVaNPH",
        "outputId": "f3e2d032-5369-42d5-f605-a9ec9b50f0b6"
      },
      "source": [
        "transactions.groupby('age').sum().sort_values('fraud_flag', ascending=False)[\"fraud_flag\"]/transactions.groupby('age').count().sort_values('fraud_flag', ascending=False)[\"fraud_flag\"]"
      ],
      "execution_count": 257,
      "outputs": [
        {
          "output_type": "execute_result",
          "data": {
            "text/plain": [
              "age\n",
              "20    0.008734\n",
              "21    0.010417\n",
              "22    0.015974\n",
              "23    0.010959\n",
              "24    0.013550\n",
              "25    0.007117\n",
              "26    0.009091\n",
              "27    0.007692\n",
              "28    0.003571\n",
              "29    0.020325\n",
              "30    0.014768\n",
              "31    0.013652\n",
              "32    0.014006\n",
              "33    0.010870\n",
              "34    0.006689\n",
              "35    0.016064\n",
              "36    0.011364\n",
              "37    0.007009\n",
              "38    0.009554\n",
              "39    0.018868\n",
              "40    0.008547\n",
              "41    0.015717\n",
              "42    0.019277\n",
              "43    0.010695\n",
              "44    0.002882\n",
              "45    0.003049\n",
              "46    0.007326\n",
              "47    0.004149\n",
              "48    0.014184\n",
              "49    0.006006\n",
              "50    0.015444\n",
              "Name: fraud_flag, dtype: float64"
            ]
          },
          "metadata": {
            "tags": []
          },
          "execution_count": 257
        }
      ]
    },
    {
      "cell_type": "code",
      "metadata": {
        "colab": {
          "base_uri": "https://localhost:8080/",
          "height": 279
        },
        "id": "ei6m7xp5RRpp",
        "outputId": "6ca6ff1c-1227-4fc4-fe08-f827d0f1f34d"
      },
      "source": [
        "ages = transactions.loc[transactions[\"fraud_flag\"] > 0][\"age\"]\r\n",
        "plt.hist(ages, density=True, bins=5)  # density=False would make counts\r\n",
        "plt.ylabel('Probability')\r\n",
        "plt.xlabel('Age');"
      ],
      "execution_count": 258,
      "outputs": [
        {
          "output_type": "display_data",
          "data": {
            "image/png": "[encoded data removed]",
            "text/plain": [
              "<Figure size 432x288 with 1 Axes>"
            ]
          },
          "metadata": {
            "tags": [],
            "needs_background": "light"
          }
        }
      ]
    },
    {
      "cell_type": "markdown",
      "metadata": {
        "id": "ZCLHS1jea6-7"
      },
      "source": [
        "Analysing `vintage_group`"
      ]
    },
    {
      "cell_type": "code",
      "metadata": {
        "colab": {
          "base_uri": "https://localhost:8080/"
        },
        "id": "6n9-jbyTaXz8",
        "outputId": "d38fb1b4-a4d3-40cf-d940-3feafdd2ebfb"
      },
      "source": [
        "transactions.groupby('vintage_group').sum().sort_values('fraud_flag', ascending=False)[\"fraud_flag\"]"
      ],
      "execution_count": 259,
      "outputs": [
        {
          "output_type": "execute_result",
          "data": {
            "text/plain": [
              "vintage_group\n",
              "1    54\n",
              "2    28\n",
              "3    27\n",
              "Name: fraud_flag, dtype: int64"
            ]
          },
          "metadata": {
            "tags": []
          },
          "execution_count": 259
        }
      ]
    },
    {
      "cell_type": "code",
      "metadata": {
        "colab": {
          "base_uri": "https://localhost:8080/"
        },
        "id": "u809G-EzvphW",
        "outputId": "40b0cba1-0f49-413c-ad0d-f0d329c52133"
      },
      "source": [
        "transactions.groupby('vintage_group').sum().sort_values('fraud_flag', ascending=False)[\"fraud_flag\"]/transactions.groupby('vintage_group').count().sort_values('fraud_flag', ascending=False)[\"fraud_flag\"]"
      ],
      "execution_count": 260,
      "outputs": [
        {
          "output_type": "execute_result",
          "data": {
            "text/plain": [
              "vintage_group\n",
              "1    0.012108\n",
              "2    0.012238\n",
              "3    0.008303\n",
              "Name: fraud_flag, dtype: float64"
            ]
          },
          "metadata": {
            "tags": []
          },
          "execution_count": 260
        }
      ]
    },
    {
      "cell_type": "markdown",
      "metadata": {
        "id": "A8cpIOdoa6-8"
      },
      "source": [
        "Analysing `value` and `credit_limit`"
      ]
    },
    {
      "cell_type": "code",
      "metadata": {
        "colab": {
          "base_uri": "https://localhost:8080/",
          "height": 290
        },
        "id": "m-ioINeJW1ua",
        "outputId": "6f85b37b-c68a-47f0-ff09-fcf7bc1131b1"
      },
      "source": [
        "plt.hist(transactions[\"value\"], density=True, bins=100)\r\n",
        "plt.ylabel('Probability')\r\n",
        "plt.xlabel('Values');"
      ],
      "execution_count": 261,
      "outputs": [
        {
          "output_type": "display_data",
          "data": {
            "image/png": "[encoded data removed]",
            "text/plain": [
              "<Figure size 432x288 with 1 Axes>"
            ]
          },
          "metadata": {
            "tags": [],
            "needs_background": "light"
          }
        }
      ]
    },
    {
      "cell_type": "code",
      "metadata": {
        "id": "1eJQyxD-egP7",
        "colab": {
          "base_uri": "https://localhost:8080/",
          "height": 279
        },
        "outputId": "13621bba-bf06-4691-ae35-8b00f68936b9"
      },
      "source": [
        "plt.hist(frauds[\"value\"], density=True, bins=100)\r\n",
        "plt.ylabel('Probability')\r\n",
        "plt.xlabel('Values');"
      ],
      "execution_count": 262,
      "outputs": [
        {
          "output_type": "display_data",
          "data": {
            "image/png": "[encoded data removed]",
            "text/plain": [
              "<Figure size 432x288 with 1 Axes>"
            ]
          },
          "metadata": {
            "tags": [],
            "needs_background": "light"
          }
        }
      ]
    },
    {
      "cell_type": "markdown",
      "metadata": {
        "id": "aRVdCgbr7hkP"
      },
      "source": [
        "This one I tried to observe if frauds have any pattern in relation to credit_limit, like, if frauds has big or small values in relation to credit_limit, but they have the same distribution the group of all transactions."
      ]
    },
    {
      "cell_type": "code",
      "metadata": {
        "colab": {
          "base_uri": "https://localhost:8080/"
        },
        "id": "Xk0MFHYEbHga",
        "outputId": "06bef531-b6bd-431e-e85e-873f88a8df97"
      },
      "source": [
        "transactions[\"value\"]/transactions[\"credit_limit\"]"
      ],
      "execution_count": 263,
      "outputs": [
        {
          "output_type": "execute_result",
          "data": {
            "text/plain": [
              "0        0.121902\n",
              "1        1.781733\n",
              "2       11.006000\n",
              "3        1.980895\n",
              "4        0.012261\n",
              "          ...    \n",
              "9995     0.067500\n",
              "9996     2.263583\n",
              "9997     1.071294\n",
              "9998     0.065612\n",
              "9999     0.760600\n",
              "Length: 10000, dtype: float64"
            ]
          },
          "metadata": {
            "tags": []
          },
          "execution_count": 263
        }
      ]
    },
    {
      "cell_type": "code",
      "metadata": {
        "colab": {
          "base_uri": "https://localhost:8080/"
        },
        "id": "5ihf3liM6owm",
        "outputId": "49470731-5ca5-4b4c-b033-37ac15fa4d0d"
      },
      "source": [
        "frauds[\"value\"]/frauds[\"credit_limit\"]"
      ],
      "execution_count": 264,
      "outputs": [
        {
          "output_type": "execute_result",
          "data": {
            "text/plain": [
              "102      0.066514\n",
              "219      0.122739\n",
              "336      0.064942\n",
              "494      1.419853\n",
              "560      0.238340\n",
              "          ...    \n",
              "9841     2.422000\n",
              "9881    18.353000\n",
              "9933     0.032851\n",
              "9973     0.184744\n",
              "9993     1.372615\n",
              "Length: 109, dtype: float64"
            ]
          },
          "metadata": {
            "tags": []
          },
          "execution_count": 264
        }
      ]
    },
    {
      "cell_type": "code",
      "metadata": {
        "colab": {
          "base_uri": "https://localhost:8080/",
          "height": 279
        },
        "id": "KRVPcAAhbTmw",
        "outputId": "0f3a46bc-6e20-4ef7-fa4b-e8a816abe5e5"
      },
      "source": [
        "plt.hist(frauds[\"value\"]/frauds[\"credit_limit\"], density=True, bins=10)\r\n",
        "plt.ylabel('Probability')\r\n",
        "plt.xlabel('Values');"
      ],
      "execution_count": 265,
      "outputs": [
        {
          "output_type": "display_data",
          "data": {
            "image/png": "[encoded data removed]",
            "text/plain": [
              "<Figure size 432x288 with 1 Axes>"
            ]
          },
          "metadata": {
            "tags": [],
            "needs_background": "light"
          }
        }
      ]
    },
    {
      "cell_type": "code",
      "metadata": {
        "colab": {
          "base_uri": "https://localhost:8080/",
          "height": 279
        },
        "id": "bGyf2pZPp1C5",
        "outputId": "c86fb046-9e1a-4aef-c3fe-3950bf7230bb"
      },
      "source": [
        "plt.hist(frauds[\"value\"]/frauds[\"credit_limit\"], density=True, bins=10)\r\n",
        "plt.ylabel('Probability')\r\n",
        "plt.xlabel('Values');"
      ],
      "execution_count": 266,
      "outputs": [
        {
          "output_type": "display_data",
          "data": {
            "image/png": "[encoded data removed]",
            "text/plain": [
              "<Figure size 432x288 with 1 Axes>"
            ]
          },
          "metadata": {
            "tags": [],
            "needs_background": "light"
          }
        }
      ]
    },
    {
      "cell_type": "code",
      "metadata": {
        "colab": {
          "base_uri": "https://localhost:8080/",
          "height": 290
        },
        "id": "sE9GfhKVoQcY",
        "outputId": "76945170-1e48-4cb9-d21a-580f7b43d991"
      },
      "source": [
        "plt.hist(transactions[\"credit_limit\"], density=True, bins=10)\r\n",
        "plt.ylabel('Probability')\r\n",
        "plt.xlabel('Credit Limit');"
      ],
      "execution_count": 267,
      "outputs": [
        {
          "output_type": "display_data",
          "data": {
            "image/png": "[encoded data removed]",
            "text/plain": [
              "<Figure size 432x288 with 1 Axes>"
            ]
          },
          "metadata": {
            "tags": [],
            "needs_background": "light"
          }
        }
      ]
    },
    {
      "cell_type": "code",
      "metadata": {
        "colab": {
          "base_uri": "https://localhost:8080/",
          "height": 290
        },
        "id": "6svz4R6h60vI",
        "outputId": "85672108-eb1b-4d24-caa3-ff1d46a932dd"
      },
      "source": [
        "plt.hist(frauds[\"credit_limit\"], density=True, bins=10)\r\n",
        "plt.ylabel('Probability')\r\n",
        "plt.xlabel('Credit Limit');"
      ],
      "execution_count": 268,
      "outputs": [
        {
          "output_type": "display_data",
          "data": {
            "image/png": "[encoded data removed]",
            "text/plain": [
              "<Figure size 432x288 with 1 Axes>"
            ]
          },
          "metadata": {
            "tags": [],
            "needs_background": "light"
          }
        }
      ]
    },
    {
      "cell_type": "markdown",
      "metadata": {
        "id": "5thUVEwWa6-_"
      },
      "source": [
        "The diference between distribution of frauds and transactions credit limit are minimum."
      ]
    },
    {
      "cell_type": "markdown",
      "metadata": {
        "id": "bDHItZO4a6-_"
      },
      "source": [
        "Analysing `customer_id`"
      ]
    },
    {
      "cell_type": "markdown",
      "metadata": {
        "id": "wQ_AZOYJa6_A"
      },
      "source": [
        "Trying to see if has some pattern in `customer_id` of frauds."
      ]
    },
    {
      "cell_type": "code",
      "metadata": {
        "colab": {
          "base_uri": "https://localhost:8080/"
        },
        "id": "24NURrEZlb1Q",
        "outputId": "4cc56e90-1b91-44ad-8901-45429be574e2"
      },
      "source": [
        "frauds[\"customer_id\"].unique()"
      ],
      "execution_count": 269,
      "outputs": [
        {
          "output_type": "execute_result",
          "data": {
            "text/plain": [
              "array([21111, 16420, 90833, 53797, 69171, 87306, 76008, 30400, 81662,\n",
              "       61332, 37643, 32108, 26034, 70762, 11690, 79161, 71365, 56879,\n",
              "       51908, 29686, 86100, 35402, 34035, 68752, 60926, 38711, 41731,\n",
              "       95072, 42497, 81396, 52744, 34083, 42937, 87270, 60164, 14547,\n",
              "       99130, 78843, 25881, 28038, 61186, 93075, 40274, 83124, 93684,\n",
              "       62968, 36771, 24049, 17722, 82406, 38471, 68010, 18438, 17727,\n",
              "       92155, 35596, 70548, 14238, 64111, 11887, 68259, 87034, 37292,\n",
              "       61838, 78862, 68567, 28847, 46637, 24722, 19277, 13320, 65775,\n",
              "       41412, 85400, 81000, 45677, 11486, 33423, 51714, 84333, 52705,\n",
              "       84463, 72302, 50434, 77470, 16029, 66351, 89243, 56647, 35750,\n",
              "       39362, 88046, 19186, 39128, 89895, 65624, 54582])"
            ]
          },
          "metadata": {
            "tags": []
          },
          "execution_count": 269
        }
      ]
    },
    {
      "cell_type": "markdown",
      "metadata": {
        "id": "q3F-cOUpx5IB"
      },
      "source": [
        "In this one I was trying to discover if has some pattern by customer where the fraud was made after several transactions or with some days in differance, but looking in some examples I found none pattern.\n"
      ]
    },
    {
      "cell_type": "code",
      "metadata": {
        "colab": {
          "base_uri": "https://localhost:8080/",
          "height": 662
        },
        "id": "-XteEKD0x0an",
        "outputId": "78e2ab65-99a5-43dc-86fc-bde41703abf1"
      },
      "source": [
        "transactions.loc[ transactions[\"customer_id\"] == frauds[\"customer_id\"].unique()[0] ].sort_values('transaction_date')"
      ],
      "execution_count": 270,
      "outputs": [
        {
          "output_type": "execute_result",
          "data": {
            "text/html": [
              "<div>\n",
              "<style scoped>\n",
              "    .dataframe tbody tr th:only-of-type {\n",
              "        vertical-align: middle;\n",
              "    }\n",
              "\n",
              "    .dataframe tbody tr th {\n",
              "        vertical-align: top;\n",
              "    }\n",
              "\n",
              "    .dataframe thead th {\n",
              "        text-align: right;\n",
              "    }\n",
              "</style>\n",
              "<table border=\"1\" class=\"dataframe\">\n",
              "  <thead>\n",
              "    <tr style=\"text-align: right;\">\n",
              "      <th></th>\n",
              "      <th>id</th>\n",
              "      <th>card_number</th>\n",
              "      <th>transaction_date</th>\n",
              "      <th>value</th>\n",
              "      <th>segment</th>\n",
              "      <th>fraud_flag</th>\n",
              "      <th>card_family</th>\n",
              "      <th>credit_limit</th>\n",
              "      <th>customer_id</th>\n",
              "      <th>age</th>\n",
              "      <th>vintage_group</th>\n",
              "    </tr>\n",
              "  </thead>\n",
              "  <tbody>\n",
              "    <tr>\n",
              "      <th>2358</th>\n",
              "      <td>38539077</td>\n",
              "      <td>4246-1369-3659-8804</td>\n",
              "      <td>2016-01-22</td>\n",
              "      <td>18103</td>\n",
              "      <td>21</td>\n",
              "      <td>0</td>\n",
              "      <td>Platinum</td>\n",
              "      <td>105000</td>\n",
              "      <td>21111</td>\n",
              "      <td>43</td>\n",
              "      <td>2</td>\n",
              "    </tr>\n",
              "    <tr>\n",
              "      <th>4833</th>\n",
              "      <td>56132129</td>\n",
              "      <td>4246-1369-3659-8804</td>\n",
              "      <td>2016-01-27</td>\n",
              "      <td>11027</td>\n",
              "      <td>17</td>\n",
              "      <td>0</td>\n",
              "      <td>Platinum</td>\n",
              "      <td>105000</td>\n",
              "      <td>21111</td>\n",
              "      <td>43</td>\n",
              "      <td>2</td>\n",
              "    </tr>\n",
              "    <tr>\n",
              "      <th>412</th>\n",
              "      <td>35361185</td>\n",
              "      <td>4246-1369-3659-8804</td>\n",
              "      <td>2016-02-10</td>\n",
              "      <td>45600</td>\n",
              "      <td>20</td>\n",
              "      <td>0</td>\n",
              "      <td>Platinum</td>\n",
              "      <td>105000</td>\n",
              "      <td>21111</td>\n",
              "      <td>43</td>\n",
              "      <td>2</td>\n",
              "    </tr>\n",
              "    <tr>\n",
              "      <th>8784</th>\n",
              "      <td>77153379</td>\n",
              "      <td>4246-1369-3659-8804</td>\n",
              "      <td>2016-02-19</td>\n",
              "      <td>27692</td>\n",
              "      <td>18</td>\n",
              "      <td>0</td>\n",
              "      <td>Platinum</td>\n",
              "      <td>105000</td>\n",
              "      <td>21111</td>\n",
              "      <td>43</td>\n",
              "      <td>2</td>\n",
              "    </tr>\n",
              "    <tr>\n",
              "      <th>9870</th>\n",
              "      <td>32960540</td>\n",
              "      <td>4246-1369-3659-8804</td>\n",
              "      <td>2016-02-23</td>\n",
              "      <td>47100</td>\n",
              "      <td>14</td>\n",
              "      <td>0</td>\n",
              "      <td>Platinum</td>\n",
              "      <td>105000</td>\n",
              "      <td>21111</td>\n",
              "      <td>43</td>\n",
              "      <td>2</td>\n",
              "    </tr>\n",
              "    <tr>\n",
              "      <th>4894</th>\n",
              "      <td>51839811</td>\n",
              "      <td>4246-1369-3659-8804</td>\n",
              "      <td>2016-03-04</td>\n",
              "      <td>36577</td>\n",
              "      <td>11</td>\n",
              "      <td>0</td>\n",
              "      <td>Platinum</td>\n",
              "      <td>105000</td>\n",
              "      <td>21111</td>\n",
              "      <td>43</td>\n",
              "      <td>2</td>\n",
              "    </tr>\n",
              "    <tr>\n",
              "      <th>9147</th>\n",
              "      <td>25769426</td>\n",
              "      <td>4246-1369-3659-8804</td>\n",
              "      <td>2016-03-31</td>\n",
              "      <td>47857</td>\n",
              "      <td>12</td>\n",
              "      <td>0</td>\n",
              "      <td>Platinum</td>\n",
              "      <td>105000</td>\n",
              "      <td>21111</td>\n",
              "      <td>43</td>\n",
              "      <td>2</td>\n",
              "    </tr>\n",
              "    <tr>\n",
              "      <th>6609</th>\n",
              "      <td>80880958</td>\n",
              "      <td>4246-1369-3659-8804</td>\n",
              "      <td>2016-04-20</td>\n",
              "      <td>19259</td>\n",
              "      <td>17</td>\n",
              "      <td>0</td>\n",
              "      <td>Platinum</td>\n",
              "      <td>105000</td>\n",
              "      <td>21111</td>\n",
              "      <td>43</td>\n",
              "      <td>2</td>\n",
              "    </tr>\n",
              "    <tr>\n",
              "      <th>102</th>\n",
              "      <td>50558449</td>\n",
              "      <td>4246-1369-3659-8804</td>\n",
              "      <td>2016-05-06</td>\n",
              "      <td>6984</td>\n",
              "      <td>23</td>\n",
              "      <td>1</td>\n",
              "      <td>Platinum</td>\n",
              "      <td>105000</td>\n",
              "      <td>21111</td>\n",
              "      <td>43</td>\n",
              "      <td>2</td>\n",
              "    </tr>\n",
              "    <tr>\n",
              "      <th>8215</th>\n",
              "      <td>61733247</td>\n",
              "      <td>4246-1369-3659-8804</td>\n",
              "      <td>2016-05-09</td>\n",
              "      <td>41730</td>\n",
              "      <td>24</td>\n",
              "      <td>0</td>\n",
              "      <td>Platinum</td>\n",
              "      <td>105000</td>\n",
              "      <td>21111</td>\n",
              "      <td>43</td>\n",
              "      <td>2</td>\n",
              "    </tr>\n",
              "    <tr>\n",
              "      <th>3125</th>\n",
              "      <td>15861177</td>\n",
              "      <td>4246-1369-3659-8804</td>\n",
              "      <td>2016-05-14</td>\n",
              "      <td>36020</td>\n",
              "      <td>24</td>\n",
              "      <td>0</td>\n",
              "      <td>Platinum</td>\n",
              "      <td>105000</td>\n",
              "      <td>21111</td>\n",
              "      <td>43</td>\n",
              "      <td>2</td>\n",
              "    </tr>\n",
              "    <tr>\n",
              "      <th>3533</th>\n",
              "      <td>24261179</td>\n",
              "      <td>4246-1369-3659-8804</td>\n",
              "      <td>2016-05-28</td>\n",
              "      <td>22625</td>\n",
              "      <td>15</td>\n",
              "      <td>0</td>\n",
              "      <td>Platinum</td>\n",
              "      <td>105000</td>\n",
              "      <td>21111</td>\n",
              "      <td>43</td>\n",
              "      <td>2</td>\n",
              "    </tr>\n",
              "    <tr>\n",
              "      <th>3186</th>\n",
              "      <td>66168716</td>\n",
              "      <td>4246-1369-3659-8804</td>\n",
              "      <td>2016-06-27</td>\n",
              "      <td>42036</td>\n",
              "      <td>19</td>\n",
              "      <td>0</td>\n",
              "      <td>Platinum</td>\n",
              "      <td>105000</td>\n",
              "      <td>21111</td>\n",
              "      <td>43</td>\n",
              "      <td>2</td>\n",
              "    </tr>\n",
              "    <tr>\n",
              "      <th>3389</th>\n",
              "      <td>56369038</td>\n",
              "      <td>4246-1369-3659-8804</td>\n",
              "      <td>2016-07-01</td>\n",
              "      <td>16628</td>\n",
              "      <td>20</td>\n",
              "      <td>0</td>\n",
              "      <td>Platinum</td>\n",
              "      <td>105000</td>\n",
              "      <td>21111</td>\n",
              "      <td>43</td>\n",
              "      <td>2</td>\n",
              "    </tr>\n",
              "    <tr>\n",
              "      <th>3300</th>\n",
              "      <td>87745443</td>\n",
              "      <td>4246-1369-3659-8804</td>\n",
              "      <td>2016-07-30</td>\n",
              "      <td>47320</td>\n",
              "      <td>14</td>\n",
              "      <td>0</td>\n",
              "      <td>Platinum</td>\n",
              "      <td>105000</td>\n",
              "      <td>21111</td>\n",
              "      <td>43</td>\n",
              "      <td>2</td>\n",
              "    </tr>\n",
              "    <tr>\n",
              "      <th>8950</th>\n",
              "      <td>24374967</td>\n",
              "      <td>4246-1369-3659-8804</td>\n",
              "      <td>2016-08-21</td>\n",
              "      <td>35990</td>\n",
              "      <td>24</td>\n",
              "      <td>0</td>\n",
              "      <td>Platinum</td>\n",
              "      <td>105000</td>\n",
              "      <td>21111</td>\n",
              "      <td>43</td>\n",
              "      <td>2</td>\n",
              "    </tr>\n",
              "    <tr>\n",
              "      <th>8848</th>\n",
              "      <td>49403531</td>\n",
              "      <td>4246-1369-3659-8804</td>\n",
              "      <td>2016-09-28</td>\n",
              "      <td>39928</td>\n",
              "      <td>18</td>\n",
              "      <td>0</td>\n",
              "      <td>Platinum</td>\n",
              "      <td>105000</td>\n",
              "      <td>21111</td>\n",
              "      <td>43</td>\n",
              "      <td>2</td>\n",
              "    </tr>\n",
              "    <tr>\n",
              "      <th>4813</th>\n",
              "      <td>63348015</td>\n",
              "      <td>4246-1369-3659-8804</td>\n",
              "      <td>2016-09-28</td>\n",
              "      <td>8256</td>\n",
              "      <td>19</td>\n",
              "      <td>0</td>\n",
              "      <td>Platinum</td>\n",
              "      <td>105000</td>\n",
              "      <td>21111</td>\n",
              "      <td>43</td>\n",
              "      <td>2</td>\n",
              "    </tr>\n",
              "    <tr>\n",
              "      <th>7459</th>\n",
              "      <td>35108590</td>\n",
              "      <td>4246-1369-3659-8804</td>\n",
              "      <td>2016-11-11</td>\n",
              "      <td>49221</td>\n",
              "      <td>16</td>\n",
              "      <td>0</td>\n",
              "      <td>Platinum</td>\n",
              "      <td>105000</td>\n",
              "      <td>21111</td>\n",
              "      <td>43</td>\n",
              "      <td>2</td>\n",
              "    </tr>\n",
              "    <tr>\n",
              "      <th>1908</th>\n",
              "      <td>67732778</td>\n",
              "      <td>4246-1369-3659-8804</td>\n",
              "      <td>2016-12-22</td>\n",
              "      <td>41907</td>\n",
              "      <td>25</td>\n",
              "      <td>0</td>\n",
              "      <td>Platinum</td>\n",
              "      <td>105000</td>\n",
              "      <td>21111</td>\n",
              "      <td>43</td>\n",
              "      <td>2</td>\n",
              "    </tr>\n",
              "  </tbody>\n",
              "</table>\n",
              "</div>"
            ],
            "text/plain": [
              "            id          card_number  ... age  vintage_group\n",
              "2358  38539077  4246-1369-3659-8804  ...  43              2\n",
              "4833  56132129  4246-1369-3659-8804  ...  43              2\n",
              "412   35361185  4246-1369-3659-8804  ...  43              2\n",
              "8784  77153379  4246-1369-3659-8804  ...  43              2\n",
              "9870  32960540  4246-1369-3659-8804  ...  43              2\n",
              "4894  51839811  4246-1369-3659-8804  ...  43              2\n",
              "9147  25769426  4246-1369-3659-8804  ...  43              2\n",
              "6609  80880958  4246-1369-3659-8804  ...  43              2\n",
              "102   50558449  4246-1369-3659-8804  ...  43              2\n",
              "8215  61733247  4246-1369-3659-8804  ...  43              2\n",
              "3125  15861177  4246-1369-3659-8804  ...  43              2\n",
              "3533  24261179  4246-1369-3659-8804  ...  43              2\n",
              "3186  66168716  4246-1369-3659-8804  ...  43              2\n",
              "3389  56369038  4246-1369-3659-8804  ...  43              2\n",
              "3300  87745443  4246-1369-3659-8804  ...  43              2\n",
              "8950  24374967  4246-1369-3659-8804  ...  43              2\n",
              "8848  49403531  4246-1369-3659-8804  ...  43              2\n",
              "4813  63348015  4246-1369-3659-8804  ...  43              2\n",
              "7459  35108590  4246-1369-3659-8804  ...  43              2\n",
              "1908  67732778  4246-1369-3659-8804  ...  43              2\n",
              "\n",
              "[20 rows x 11 columns]"
            ]
          },
          "metadata": {
            "tags": []
          },
          "execution_count": 270
        }
      ]
    },
    {
      "cell_type": "code",
      "metadata": {
        "colab": {
          "base_uri": "https://localhost:8080/",
          "height": 846
        },
        "id": "Osii_Fu5lokH",
        "outputId": "917d0d4c-f3b1-40e7-b636-17017251f889"
      },
      "source": [
        "transactions.loc[ transactions[\"customer_id\"] == frauds[\"customer_id\"].unique()[5] ].sort_values('transaction_date')"
      ],
      "execution_count": 271,
      "outputs": [
        {
          "output_type": "execute_result",
          "data": {
            "text/html": [
              "<div>\n",
              "<style scoped>\n",
              "    .dataframe tbody tr th:only-of-type {\n",
              "        vertical-align: middle;\n",
              "    }\n",
              "\n",
              "    .dataframe tbody tr th {\n",
              "        vertical-align: top;\n",
              "    }\n",
              "\n",
              "    .dataframe thead th {\n",
              "        text-align: right;\n",
              "    }\n",
              "</style>\n",
              "<table border=\"1\" class=\"dataframe\">\n",
              "  <thead>\n",
              "    <tr style=\"text-align: right;\">\n",
              "      <th></th>\n",
              "      <th>id</th>\n",
              "      <th>card_number</th>\n",
              "      <th>transaction_date</th>\n",
              "      <th>value</th>\n",
              "      <th>segment</th>\n",
              "      <th>fraud_flag</th>\n",
              "      <th>card_family</th>\n",
              "      <th>credit_limit</th>\n",
              "      <th>customer_id</th>\n",
              "      <th>age</th>\n",
              "      <th>vintage_group</th>\n",
              "    </tr>\n",
              "  </thead>\n",
              "  <tbody>\n",
              "    <tr>\n",
              "      <th>580</th>\n",
              "      <td>26555772</td>\n",
              "      <td>5734-5619-8469-4044</td>\n",
              "      <td>2016-01-11</td>\n",
              "      <td>683</td>\n",
              "      <td>22</td>\n",
              "      <td>1</td>\n",
              "      <td>Gold</td>\n",
              "      <td>36000</td>\n",
              "      <td>87306</td>\n",
              "      <td>30</td>\n",
              "      <td>1</td>\n",
              "    </tr>\n",
              "    <tr>\n",
              "      <th>35</th>\n",
              "      <td>11264842</td>\n",
              "      <td>5734-5619-8469-4044</td>\n",
              "      <td>2016-02-04</td>\n",
              "      <td>891</td>\n",
              "      <td>12</td>\n",
              "      <td>0</td>\n",
              "      <td>Gold</td>\n",
              "      <td>36000</td>\n",
              "      <td>87306</td>\n",
              "      <td>30</td>\n",
              "      <td>1</td>\n",
              "    </tr>\n",
              "    <tr>\n",
              "      <th>9715</th>\n",
              "      <td>69999647</td>\n",
              "      <td>5734-5619-8469-4044</td>\n",
              "      <td>2016-03-11</td>\n",
              "      <td>30714</td>\n",
              "      <td>14</td>\n",
              "      <td>0</td>\n",
              "      <td>Gold</td>\n",
              "      <td>36000</td>\n",
              "      <td>87306</td>\n",
              "      <td>30</td>\n",
              "      <td>1</td>\n",
              "    </tr>\n",
              "    <tr>\n",
              "      <th>9600</th>\n",
              "      <td>55822635</td>\n",
              "      <td>5734-5619-8469-4044</td>\n",
              "      <td>2016-03-14</td>\n",
              "      <td>42273</td>\n",
              "      <td>20</td>\n",
              "      <td>0</td>\n",
              "      <td>Gold</td>\n",
              "      <td>36000</td>\n",
              "      <td>87306</td>\n",
              "      <td>30</td>\n",
              "      <td>1</td>\n",
              "    </tr>\n",
              "    <tr>\n",
              "      <th>9465</th>\n",
              "      <td>65651562</td>\n",
              "      <td>5734-5619-8469-4044</td>\n",
              "      <td>2016-03-18</td>\n",
              "      <td>13329</td>\n",
              "      <td>21</td>\n",
              "      <td>0</td>\n",
              "      <td>Gold</td>\n",
              "      <td>36000</td>\n",
              "      <td>87306</td>\n",
              "      <td>30</td>\n",
              "      <td>1</td>\n",
              "    </tr>\n",
              "    <tr>\n",
              "      <th>695</th>\n",
              "      <td>11888859</td>\n",
              "      <td>5734-5619-8469-4044</td>\n",
              "      <td>2016-03-19</td>\n",
              "      <td>19067</td>\n",
              "      <td>19</td>\n",
              "      <td>0</td>\n",
              "      <td>Gold</td>\n",
              "      <td>36000</td>\n",
              "      <td>87306</td>\n",
              "      <td>30</td>\n",
              "      <td>1</td>\n",
              "    </tr>\n",
              "    <tr>\n",
              "      <th>3096</th>\n",
              "      <td>39932054</td>\n",
              "      <td>5734-5619-8469-4044</td>\n",
              "      <td>2016-03-20</td>\n",
              "      <td>38494</td>\n",
              "      <td>12</td>\n",
              "      <td>0</td>\n",
              "      <td>Gold</td>\n",
              "      <td>36000</td>\n",
              "      <td>87306</td>\n",
              "      <td>30</td>\n",
              "      <td>1</td>\n",
              "    </tr>\n",
              "    <tr>\n",
              "      <th>3423</th>\n",
              "      <td>28350944</td>\n",
              "      <td>5734-5619-8469-4044</td>\n",
              "      <td>2016-03-24</td>\n",
              "      <td>30400</td>\n",
              "      <td>15</td>\n",
              "      <td>0</td>\n",
              "      <td>Gold</td>\n",
              "      <td>36000</td>\n",
              "      <td>87306</td>\n",
              "      <td>30</td>\n",
              "      <td>1</td>\n",
              "    </tr>\n",
              "    <tr>\n",
              "      <th>8401</th>\n",
              "      <td>51336470</td>\n",
              "      <td>5734-5619-8469-4044</td>\n",
              "      <td>2016-04-04</td>\n",
              "      <td>34446</td>\n",
              "      <td>17</td>\n",
              "      <td>0</td>\n",
              "      <td>Gold</td>\n",
              "      <td>36000</td>\n",
              "      <td>87306</td>\n",
              "      <td>30</td>\n",
              "      <td>1</td>\n",
              "    </tr>\n",
              "    <tr>\n",
              "      <th>1889</th>\n",
              "      <td>94727068</td>\n",
              "      <td>5734-5619-8469-4044</td>\n",
              "      <td>2016-05-07</td>\n",
              "      <td>46836</td>\n",
              "      <td>11</td>\n",
              "      <td>0</td>\n",
              "      <td>Gold</td>\n",
              "      <td>36000</td>\n",
              "      <td>87306</td>\n",
              "      <td>30</td>\n",
              "      <td>1</td>\n",
              "    </tr>\n",
              "    <tr>\n",
              "      <th>4782</th>\n",
              "      <td>18800155</td>\n",
              "      <td>5734-5619-8469-4044</td>\n",
              "      <td>2016-05-18</td>\n",
              "      <td>34715</td>\n",
              "      <td>15</td>\n",
              "      <td>0</td>\n",
              "      <td>Gold</td>\n",
              "      <td>36000</td>\n",
              "      <td>87306</td>\n",
              "      <td>30</td>\n",
              "      <td>1</td>\n",
              "    </tr>\n",
              "    <tr>\n",
              "      <th>4020</th>\n",
              "      <td>64780394</td>\n",
              "      <td>5734-5619-8469-4044</td>\n",
              "      <td>2016-06-27</td>\n",
              "      <td>3365</td>\n",
              "      <td>25</td>\n",
              "      <td>0</td>\n",
              "      <td>Gold</td>\n",
              "      <td>36000</td>\n",
              "      <td>87306</td>\n",
              "      <td>30</td>\n",
              "      <td>1</td>\n",
              "    </tr>\n",
              "    <tr>\n",
              "      <th>9165</th>\n",
              "      <td>72929225</td>\n",
              "      <td>5734-5619-8469-4044</td>\n",
              "      <td>2016-07-04</td>\n",
              "      <td>4881</td>\n",
              "      <td>12</td>\n",
              "      <td>0</td>\n",
              "      <td>Gold</td>\n",
              "      <td>36000</td>\n",
              "      <td>87306</td>\n",
              "      <td>30</td>\n",
              "      <td>1</td>\n",
              "    </tr>\n",
              "    <tr>\n",
              "      <th>3996</th>\n",
              "      <td>79828066</td>\n",
              "      <td>5734-5619-8469-4044</td>\n",
              "      <td>2016-07-05</td>\n",
              "      <td>14163</td>\n",
              "      <td>18</td>\n",
              "      <td>0</td>\n",
              "      <td>Gold</td>\n",
              "      <td>36000</td>\n",
              "      <td>87306</td>\n",
              "      <td>30</td>\n",
              "      <td>1</td>\n",
              "    </tr>\n",
              "    <tr>\n",
              "      <th>5687</th>\n",
              "      <td>31866996</td>\n",
              "      <td>5734-5619-8469-4044</td>\n",
              "      <td>2016-07-14</td>\n",
              "      <td>14527</td>\n",
              "      <td>21</td>\n",
              "      <td>0</td>\n",
              "      <td>Gold</td>\n",
              "      <td>36000</td>\n",
              "      <td>87306</td>\n",
              "      <td>30</td>\n",
              "      <td>1</td>\n",
              "    </tr>\n",
              "    <tr>\n",
              "      <th>388</th>\n",
              "      <td>96666677</td>\n",
              "      <td>5734-5619-8469-4044</td>\n",
              "      <td>2016-09-13</td>\n",
              "      <td>37975</td>\n",
              "      <td>14</td>\n",
              "      <td>0</td>\n",
              "      <td>Gold</td>\n",
              "      <td>36000</td>\n",
              "      <td>87306</td>\n",
              "      <td>30</td>\n",
              "      <td>1</td>\n",
              "    </tr>\n",
              "    <tr>\n",
              "      <th>1325</th>\n",
              "      <td>20290129</td>\n",
              "      <td>5734-5619-8469-4044</td>\n",
              "      <td>2016-09-25</td>\n",
              "      <td>21690</td>\n",
              "      <td>17</td>\n",
              "      <td>0</td>\n",
              "      <td>Gold</td>\n",
              "      <td>36000</td>\n",
              "      <td>87306</td>\n",
              "      <td>30</td>\n",
              "      <td>1</td>\n",
              "    </tr>\n",
              "    <tr>\n",
              "      <th>2797</th>\n",
              "      <td>53696598</td>\n",
              "      <td>5734-5619-8469-4044</td>\n",
              "      <td>2016-09-26</td>\n",
              "      <td>14204</td>\n",
              "      <td>19</td>\n",
              "      <td>0</td>\n",
              "      <td>Gold</td>\n",
              "      <td>36000</td>\n",
              "      <td>87306</td>\n",
              "      <td>30</td>\n",
              "      <td>1</td>\n",
              "    </tr>\n",
              "    <tr>\n",
              "      <th>9804</th>\n",
              "      <td>21115633</td>\n",
              "      <td>5734-5619-8469-4044</td>\n",
              "      <td>2016-10-06</td>\n",
              "      <td>38008</td>\n",
              "      <td>19</td>\n",
              "      <td>0</td>\n",
              "      <td>Gold</td>\n",
              "      <td>36000</td>\n",
              "      <td>87306</td>\n",
              "      <td>30</td>\n",
              "      <td>1</td>\n",
              "    </tr>\n",
              "    <tr>\n",
              "      <th>3649</th>\n",
              "      <td>72774770</td>\n",
              "      <td>5734-5619-8469-4044</td>\n",
              "      <td>2016-10-15</td>\n",
              "      <td>15569</td>\n",
              "      <td>14</td>\n",
              "      <td>0</td>\n",
              "      <td>Gold</td>\n",
              "      <td>36000</td>\n",
              "      <td>87306</td>\n",
              "      <td>30</td>\n",
              "      <td>1</td>\n",
              "    </tr>\n",
              "    <tr>\n",
              "      <th>6986</th>\n",
              "      <td>62641262</td>\n",
              "      <td>5734-5619-8469-4044</td>\n",
              "      <td>2016-10-26</td>\n",
              "      <td>29315</td>\n",
              "      <td>13</td>\n",
              "      <td>0</td>\n",
              "      <td>Gold</td>\n",
              "      <td>36000</td>\n",
              "      <td>87306</td>\n",
              "      <td>30</td>\n",
              "      <td>1</td>\n",
              "    </tr>\n",
              "    <tr>\n",
              "      <th>1486</th>\n",
              "      <td>11121666</td>\n",
              "      <td>5734-5619-8469-4044</td>\n",
              "      <td>2016-10-28</td>\n",
              "      <td>5845</td>\n",
              "      <td>25</td>\n",
              "      <td>0</td>\n",
              "      <td>Gold</td>\n",
              "      <td>36000</td>\n",
              "      <td>87306</td>\n",
              "      <td>30</td>\n",
              "      <td>1</td>\n",
              "    </tr>\n",
              "    <tr>\n",
              "      <th>5087</th>\n",
              "      <td>91621766</td>\n",
              "      <td>5734-5619-8469-4044</td>\n",
              "      <td>2016-10-31</td>\n",
              "      <td>26091</td>\n",
              "      <td>13</td>\n",
              "      <td>0</td>\n",
              "      <td>Gold</td>\n",
              "      <td>36000</td>\n",
              "      <td>87306</td>\n",
              "      <td>30</td>\n",
              "      <td>1</td>\n",
              "    </tr>\n",
              "    <tr>\n",
              "      <th>2677</th>\n",
              "      <td>46453058</td>\n",
              "      <td>5734-5619-8469-4044</td>\n",
              "      <td>2016-12-07</td>\n",
              "      <td>48722</td>\n",
              "      <td>23</td>\n",
              "      <td>0</td>\n",
              "      <td>Gold</td>\n",
              "      <td>36000</td>\n",
              "      <td>87306</td>\n",
              "      <td>30</td>\n",
              "      <td>1</td>\n",
              "    </tr>\n",
              "    <tr>\n",
              "      <th>4911</th>\n",
              "      <td>45637722</td>\n",
              "      <td>5734-5619-8469-4044</td>\n",
              "      <td>2016-12-14</td>\n",
              "      <td>28689</td>\n",
              "      <td>24</td>\n",
              "      <td>0</td>\n",
              "      <td>Gold</td>\n",
              "      <td>36000</td>\n",
              "      <td>87306</td>\n",
              "      <td>30</td>\n",
              "      <td>1</td>\n",
              "    </tr>\n",
              "    <tr>\n",
              "      <th>9684</th>\n",
              "      <td>72258152</td>\n",
              "      <td>5734-5619-8469-4044</td>\n",
              "      <td>2016-12-29</td>\n",
              "      <td>37206</td>\n",
              "      <td>14</td>\n",
              "      <td>0</td>\n",
              "      <td>Gold</td>\n",
              "      <td>36000</td>\n",
              "      <td>87306</td>\n",
              "      <td>30</td>\n",
              "      <td>1</td>\n",
              "    </tr>\n",
              "  </tbody>\n",
              "</table>\n",
              "</div>"
            ],
            "text/plain": [
              "            id          card_number  ... age  vintage_group\n",
              "580   26555772  5734-5619-8469-4044  ...  30              1\n",
              "35    11264842  5734-5619-8469-4044  ...  30              1\n",
              "9715  69999647  5734-5619-8469-4044  ...  30              1\n",
              "9600  55822635  5734-5619-8469-4044  ...  30              1\n",
              "9465  65651562  5734-5619-8469-4044  ...  30              1\n",
              "695   11888859  5734-5619-8469-4044  ...  30              1\n",
              "3096  39932054  5734-5619-8469-4044  ...  30              1\n",
              "3423  28350944  5734-5619-8469-4044  ...  30              1\n",
              "8401  51336470  5734-5619-8469-4044  ...  30              1\n",
              "1889  94727068  5734-5619-8469-4044  ...  30              1\n",
              "4782  18800155  5734-5619-8469-4044  ...  30              1\n",
              "4020  64780394  5734-5619-8469-4044  ...  30              1\n",
              "9165  72929225  5734-5619-8469-4044  ...  30              1\n",
              "3996  79828066  5734-5619-8469-4044  ...  30              1\n",
              "5687  31866996  5734-5619-8469-4044  ...  30              1\n",
              "388   96666677  5734-5619-8469-4044  ...  30              1\n",
              "1325  20290129  5734-5619-8469-4044  ...  30              1\n",
              "2797  53696598  5734-5619-8469-4044  ...  30              1\n",
              "9804  21115633  5734-5619-8469-4044  ...  30              1\n",
              "3649  72774770  5734-5619-8469-4044  ...  30              1\n",
              "6986  62641262  5734-5619-8469-4044  ...  30              1\n",
              "1486  11121666  5734-5619-8469-4044  ...  30              1\n",
              "5087  91621766  5734-5619-8469-4044  ...  30              1\n",
              "2677  46453058  5734-5619-8469-4044  ...  30              1\n",
              "4911  45637722  5734-5619-8469-4044  ...  30              1\n",
              "9684  72258152  5734-5619-8469-4044  ...  30              1\n",
              "\n",
              "[26 rows x 11 columns]"
            ]
          },
          "metadata": {
            "tags": []
          },
          "execution_count": 271
        }
      ]
    },
    {
      "cell_type": "markdown",
      "metadata": {
        "id": "6Y9XrQjxyUV3"
      },
      "source": [
        "This one was trying to look for a pattern in the days of frauds."
      ]
    },
    {
      "cell_type": "code",
      "metadata": {
        "colab": {
          "base_uri": "https://localhost:8080/",
          "height": 415
        },
        "id": "FDwCTr-yiJkv",
        "outputId": "590cdd9e-5dd5-498e-9d43-f21fccd20d31"
      },
      "source": [
        "frauds.sort_values('transaction_date')[20:]"
      ],
      "execution_count": 272,
      "outputs": [
        {
          "output_type": "execute_result",
          "data": {
            "text/html": [
              "<div>\n",
              "<style scoped>\n",
              "    .dataframe tbody tr th:only-of-type {\n",
              "        vertical-align: middle;\n",
              "    }\n",
              "\n",
              "    .dataframe tbody tr th {\n",
              "        vertical-align: top;\n",
              "    }\n",
              "\n",
              "    .dataframe thead th {\n",
              "        text-align: right;\n",
              "    }\n",
              "</style>\n",
              "<table border=\"1\" class=\"dataframe\">\n",
              "  <thead>\n",
              "    <tr style=\"text-align: right;\">\n",
              "      <th></th>\n",
              "      <th>id</th>\n",
              "      <th>card_number</th>\n",
              "      <th>transaction_date</th>\n",
              "      <th>value</th>\n",
              "      <th>segment</th>\n",
              "      <th>fraud_flag</th>\n",
              "      <th>card_family</th>\n",
              "      <th>credit_limit</th>\n",
              "      <th>customer_id</th>\n",
              "      <th>age</th>\n",
              "      <th>vintage_group</th>\n",
              "    </tr>\n",
              "  </thead>\n",
              "  <tbody>\n",
              "    <tr>\n",
              "      <th>4142</th>\n",
              "      <td>55429304</td>\n",
              "      <td>9030-1667-6058-6173</td>\n",
              "      <td>2016-03-03</td>\n",
              "      <td>48514</td>\n",
              "      <td>15</td>\n",
              "      <td>1</td>\n",
              "      <td>Premium</td>\n",
              "      <td>426000</td>\n",
              "      <td>61186</td>\n",
              "      <td>41</td>\n",
              "      <td>1</td>\n",
              "    </tr>\n",
              "    <tr>\n",
              "      <th>4650</th>\n",
              "      <td>80787923</td>\n",
              "      <td>5129-6974-6371-2964</td>\n",
              "      <td>2016-03-06</td>\n",
              "      <td>17320</td>\n",
              "      <td>24</td>\n",
              "      <td>1</td>\n",
              "      <td>Gold</td>\n",
              "      <td>31000</td>\n",
              "      <td>62968</td>\n",
              "      <td>44</td>\n",
              "      <td>1</td>\n",
              "    </tr>\n",
              "    <tr>\n",
              "      <th>1664</th>\n",
              "      <td>28195227</td>\n",
              "      <td>8231-5519-1948-3400</td>\n",
              "      <td>2016-03-10</td>\n",
              "      <td>16857</td>\n",
              "      <td>17</td>\n",
              "      <td>1</td>\n",
              "      <td>Premium</td>\n",
              "      <td>661000</td>\n",
              "      <td>71365</td>\n",
              "      <td>39</td>\n",
              "      <td>2</td>\n",
              "    </tr>\n",
              "    <tr>\n",
              "      <th>3980</th>\n",
              "      <td>73000031</td>\n",
              "      <td>2447-6299-5016-4953</td>\n",
              "      <td>2016-03-11</td>\n",
              "      <td>8980</td>\n",
              "      <td>23</td>\n",
              "      <td>1</td>\n",
              "      <td>Premium</td>\n",
              "      <td>497000</td>\n",
              "      <td>25881</td>\n",
              "      <td>25</td>\n",
              "      <td>3</td>\n",
              "    </tr>\n",
              "    <tr>\n",
              "      <th>8066</th>\n",
              "      <td>87470159</td>\n",
              "      <td>7214-4915-6387-5429</td>\n",
              "      <td>2016-03-11</td>\n",
              "      <td>32198</td>\n",
              "      <td>21</td>\n",
              "      <td>1</td>\n",
              "      <td>Platinum</td>\n",
              "      <td>172000</td>\n",
              "      <td>72302</td>\n",
              "      <td>22</td>\n",
              "      <td>1</td>\n",
              "    </tr>\n",
              "    <tr>\n",
              "      <th>...</th>\n",
              "      <td>...</td>\n",
              "      <td>...</td>\n",
              "      <td>...</td>\n",
              "      <td>...</td>\n",
              "      <td>...</td>\n",
              "      <td>...</td>\n",
              "      <td>...</td>\n",
              "      <td>...</td>\n",
              "      <td>...</td>\n",
              "      <td>...</td>\n",
              "      <td>...</td>\n",
              "    </tr>\n",
              "    <tr>\n",
              "      <th>6082</th>\n",
              "      <td>30763806</td>\n",
              "      <td>6722-7299-6082-7974</td>\n",
              "      <td>2016-12-17</td>\n",
              "      <td>40751</td>\n",
              "      <td>21</td>\n",
              "      <td>1</td>\n",
              "      <td>Gold</td>\n",
              "      <td>34000</td>\n",
              "      <td>87034</td>\n",
              "      <td>36</td>\n",
              "      <td>2</td>\n",
              "    </tr>\n",
              "    <tr>\n",
              "      <th>1905</th>\n",
              "      <td>41668436</td>\n",
              "      <td>4012-7774-6690-7055</td>\n",
              "      <td>2016-12-23</td>\n",
              "      <td>6477</td>\n",
              "      <td>20</td>\n",
              "      <td>1</td>\n",
              "      <td>Platinum</td>\n",
              "      <td>159000</td>\n",
              "      <td>29686</td>\n",
              "      <td>36</td>\n",
              "      <td>2</td>\n",
              "    </tr>\n",
              "    <tr>\n",
              "      <th>2267</th>\n",
              "      <td>95859840</td>\n",
              "      <td>4856-2191-9879-6388</td>\n",
              "      <td>2016-12-24</td>\n",
              "      <td>34214</td>\n",
              "      <td>21</td>\n",
              "      <td>1</td>\n",
              "      <td>Gold</td>\n",
              "      <td>11000</td>\n",
              "      <td>38711</td>\n",
              "      <td>43</td>\n",
              "      <td>1</td>\n",
              "    </tr>\n",
              "    <tr>\n",
              "      <th>9933</th>\n",
              "      <td>30494187</td>\n",
              "      <td>9018-5320-5729-5393</td>\n",
              "      <td>2016-12-31</td>\n",
              "      <td>14586</td>\n",
              "      <td>20</td>\n",
              "      <td>1</td>\n",
              "      <td>Premium</td>\n",
              "      <td>444000</td>\n",
              "      <td>54582</td>\n",
              "      <td>29</td>\n",
              "      <td>3</td>\n",
              "    </tr>\n",
              "    <tr>\n",
              "      <th>6280</th>\n",
              "      <td>68584964</td>\n",
              "      <td>2949-1972-1300-6680</td>\n",
              "      <td>2016-12-31</td>\n",
              "      <td>18851</td>\n",
              "      <td>22</td>\n",
              "      <td>1</td>\n",
              "      <td>Gold</td>\n",
              "      <td>45000</td>\n",
              "      <td>68567</td>\n",
              "      <td>31</td>\n",
              "      <td>2</td>\n",
              "    </tr>\n",
              "  </tbody>\n",
              "</table>\n",
              "<p>89 rows × 11 columns</p>\n",
              "</div>"
            ],
            "text/plain": [
              "            id          card_number  ... age  vintage_group\n",
              "4142  55429304  9030-1667-6058-6173  ...  41              1\n",
              "4650  80787923  5129-6974-6371-2964  ...  44              1\n",
              "1664  28195227  8231-5519-1948-3400  ...  39              2\n",
              "3980  73000031  2447-6299-5016-4953  ...  25              3\n",
              "8066  87470159  7214-4915-6387-5429  ...  22              1\n",
              "...        ...                  ...  ...  ..            ...\n",
              "6082  30763806  6722-7299-6082-7974  ...  36              2\n",
              "1905  41668436  4012-7774-6690-7055  ...  36              2\n",
              "2267  95859840  4856-2191-9879-6388  ...  43              1\n",
              "9933  30494187  9018-5320-5729-5393  ...  29              3\n",
              "6280  68584964  2949-1972-1300-6680  ...  31              2\n",
              "\n",
              "[89 rows x 11 columns]"
            ]
          },
          "metadata": {
            "tags": []
          },
          "execution_count": 272
        }
      ]
    },
    {
      "cell_type": "markdown",
      "metadata": {
        "id": "u1J9k8yjytUu"
      },
      "source": [
        "Last, i tried to look for a pattern in the gaps of days of frauds, but I found none too."
      ]
    },
    {
      "cell_type": "code",
      "metadata": {
        "colab": {
          "base_uri": "https://localhost:8080/"
        },
        "id": "LDvRSgMbmE7I",
        "outputId": "1422f949-f716-4aa3-d8a3-e8cb6004831b"
      },
      "source": [
        "count = 0\r\n",
        "last = 0\r\n",
        "gaps = []\r\n",
        "for index, row in transactions.iterrows():\r\n",
        "    count += 1\r\n",
        "    if row[\"fraud_flag\"] == 1:\r\n",
        "      gaps.append( index - last)\r\n",
        "      last = index\r\n",
        "\r\n",
        "print(gaps)"
      ],
      "execution_count": 273,
      "outputs": [
        {
          "output_type": "stream",
          "text": [
            "[102, 117, 117, 158, 66, 20, 20, 46, 55, 77, 23, 16, 60, 40, 20, 20, 657, 50, 60, 169, 12, 68, 36, 57, 97, 51, 53, 262, 337, 298, 55, 2, 101, 109, 20, 179, 13, 96, 211, 30, 82, 80, 20, 69, 67, 23, 8, 67, 156, 67, 31, 67, 64, 18, 30, 519, 53, 17, 85, 9, 84, 64, 318, 34, 23, 40, 7, 3, 137, 12, 46, 47, 5, 13, 42, 130, 32, 226, 33, 58, 31, 406, 102, 194, 62, 59, 57, 186, 103, 203, 130, 70, 319, 14, 18, 141, 33, 155, 216, 79, 175, 109, 6, 8, 99, 40, 52, 40, 20]\n"
          ],
          "name": "stdout"
        }
      ]
    },
    {
      "cell_type": "markdown",
      "metadata": {
        "id": "gKvtVRUZyvzp"
      },
      "source": [
        "Finally, throught my analysis and observation of the data, I think that the frauds has no trivial pattern or correlation, maybe with some Machine Learning model is possible to predict a fraud, but just with a simple statistical analysis was not possible to decide wheter or not a transaction was a fraud."
      ]
    },
    {
      "cell_type": "markdown",
      "metadata": {
        "id": "2Dl2Qo0pP3RG"
      },
      "source": [
        "# Prediction"
      ]
    },
    {
      "cell_type": "code",
      "metadata": {
        "id": "7MY9TmIlVgLw"
      },
      "source": [
        "transac_to_model = transactions.copy()\r\n",
        "first_day = transac_to_model.sort_values('transaction_date').iloc[0][\"transaction_date\"]\r\n",
        "\r\n",
        "transac_to_model[\"transaction_date\"] = transac_to_model[\"transaction_date\"] - first_day\r\n",
        "transac_to_model[\"transaction_date\"] = transac_to_model[\"transaction_date\"].dt.days.astype('int16')\r\n",
        "\r\n",
        "# Label Encoding using the ranked based by credit limit \r\n",
        "transac_to_model.replace({'card_family': {'Gold': 0, 'Platinum': 1, 'Premium':2 }}, inplace=True)\r\n",
        "\r\n",
        "transac_to_model = transac_to_model.drop(columns=[\"card_number\", \"id\", \"customer_id\",\"vintage_group\", \"segment\"])"
      ],
      "execution_count": 274,
      "outputs": []
    },
    {
      "cell_type": "code",
      "metadata": {
        "colab": {
          "base_uri": "https://localhost:8080/",
          "height": 202
        },
        "id": "JnxehcCcZw_q",
        "outputId": "dc15a147-dbd1-465d-fb3d-ec0be66bb1b3"
      },
      "source": [
        "transac_to_model.head()"
      ],
      "execution_count": 275,
      "outputs": [
        {
          "output_type": "execute_result",
          "data": {
            "text/html": [
              "<div>\n",
              "<style scoped>\n",
              "    .dataframe tbody tr th:only-of-type {\n",
              "        vertical-align: middle;\n",
              "    }\n",
              "\n",
              "    .dataframe tbody tr th {\n",
              "        vertical-align: top;\n",
              "    }\n",
              "\n",
              "    .dataframe thead th {\n",
              "        text-align: right;\n",
              "    }\n",
              "</style>\n",
              "<table border=\"1\" class=\"dataframe\">\n",
              "  <thead>\n",
              "    <tr style=\"text-align: right;\">\n",
              "      <th></th>\n",
              "      <th>transaction_date</th>\n",
              "      <th>value</th>\n",
              "      <th>segment</th>\n",
              "      <th>fraud_flag</th>\n",
              "      <th>card_family</th>\n",
              "      <th>credit_limit</th>\n",
              "      <th>age</th>\n",
              "      <th>vintage_group</th>\n",
              "    </tr>\n",
              "  </thead>\n",
              "  <tbody>\n",
              "    <tr>\n",
              "      <th>0</th>\n",
              "      <td>114</td>\n",
              "      <td>23649</td>\n",
              "      <td>25</td>\n",
              "      <td>0</td>\n",
              "      <td>1</td>\n",
              "      <td>194000</td>\n",
              "      <td>23</td>\n",
              "      <td>3</td>\n",
              "    </tr>\n",
              "    <tr>\n",
              "      <th>1</th>\n",
              "      <td>41</td>\n",
              "      <td>26726</td>\n",
              "      <td>16</td>\n",
              "      <td>0</td>\n",
              "      <td>0</td>\n",
              "      <td>15000</td>\n",
              "      <td>48</td>\n",
              "      <td>3</td>\n",
              "    </tr>\n",
              "    <tr>\n",
              "      <th>2</th>\n",
              "      <td>305</td>\n",
              "      <td>22012</td>\n",
              "      <td>14</td>\n",
              "      <td>0</td>\n",
              "      <td>0</td>\n",
              "      <td>2000</td>\n",
              "      <td>23</td>\n",
              "      <td>1</td>\n",
              "    </tr>\n",
              "    <tr>\n",
              "      <th>3</th>\n",
              "      <td>27</td>\n",
              "      <td>37637</td>\n",
              "      <td>17</td>\n",
              "      <td>0</td>\n",
              "      <td>0</td>\n",
              "      <td>19000</td>\n",
              "      <td>44</td>\n",
              "      <td>2</td>\n",
              "    </tr>\n",
              "    <tr>\n",
              "      <th>4</th>\n",
              "      <td>76</td>\n",
              "      <td>5113</td>\n",
              "      <td>14</td>\n",
              "      <td>0</td>\n",
              "      <td>2</td>\n",
              "      <td>417000</td>\n",
              "      <td>42</td>\n",
              "      <td>3</td>\n",
              "    </tr>\n",
              "  </tbody>\n",
              "</table>\n",
              "</div>"
            ],
            "text/plain": [
              "   transaction_date  value  segment  ...  credit_limit  age  vintage_group\n",
              "0               114  23649       25  ...        194000   23              3\n",
              "1                41  26726       16  ...         15000   48              3\n",
              "2               305  22012       14  ...          2000   23              1\n",
              "3                27  37637       17  ...         19000   44              2\n",
              "4                76   5113       14  ...        417000   42              3\n",
              "\n",
              "[5 rows x 8 columns]"
            ]
          },
          "metadata": {
            "tags": []
          },
          "execution_count": 275
        }
      ]
    },
    {
      "cell_type": "code",
      "metadata": {
        "id": "xY1cvkbeP9pK"
      },
      "source": [
        "x = transac_to_model.loc[:,transac_to_model.columns!='fraud_flag'].values\r\n",
        "y = np.ravel(transac_to_model.loc[:,transac_to_model.columns=='fraud_flag'].values)"
      ],
      "execution_count": 276,
      "outputs": []
    },
    {
      "cell_type": "markdown",
      "metadata": {
        "id": "AGvQX1w5ADnj"
      },
      "source": [
        "Considering that just a few transactions are frauds, if the model consider all transactions as not fraudlent the accuracy will be:"
      ]
    },
    {
      "cell_type": "code",
      "metadata": {
        "colab": {
          "base_uri": "https://localhost:8080/"
        },
        "id": "MG5Ai8TL_1Q5",
        "outputId": "ed082eff-bfbd-4b9d-8026-2b7f3efe8d7f"
      },
      "source": [
        "1 - frauds.shape[0]/transactions.shape[0]"
      ],
      "execution_count": 277,
      "outputs": [
        {
          "output_type": "execute_result",
          "data": {
            "text/plain": [
              "0.9891"
            ]
          },
          "metadata": {
            "tags": []
          },
          "execution_count": 277
        }
      ]
    },
    {
      "cell_type": "markdown",
      "metadata": {
        "id": "qiONRmO2lVDA"
      },
      "source": [
        "Let's test some classifiers."
      ]
    },
    {
      "cell_type": "code",
      "metadata": {
        "colab": {
          "base_uri": "https://localhost:8080/"
        },
        "id": "dig3c_qNT4UL",
        "outputId": "0435a85f-ae7a-493d-8643-475052f25f39"
      },
      "source": [
        "classifier_knn = KNeighborsClassifier()\r\n",
        "\r\n",
        "params = {\r\n",
        "    'n_neighbors': (40,50,60),\r\n",
        "}\r\n",
        "\r\n",
        "best_classifier_knn = GridSearchCV(classifier_knn, params, scoring='accuracy', n_jobs=-1, cv=2)\r\n",
        "\r\n",
        "classifier_knn = best_classifier_knn.fit(x,y)\r\n",
        "\r\n",
        "print(\"Best params:\")\r\n",
        "print(best_classifier_knn.best_params_)\r\n",
        "print(\"\\n\")\r\n",
        "print(\"Best scores:\")\r\n",
        "print(best_classifier_knn.best_score_)"
      ],
      "execution_count": 278,
      "outputs": [
        {
          "output_type": "stream",
          "text": [
            "Best params:\n",
            "{'n_neighbors': 40}\n",
            "\n",
            "\n",
            "Best scores:\n",
            "0.9891\n"
          ],
          "name": "stdout"
        }
      ]
    },
    {
      "cell_type": "code",
      "metadata": {
        "colab": {
          "base_uri": "https://localhost:8080/"
        },
        "id": "om3Rvj9DT9p8",
        "outputId": "93c0868f-f063-4372-ed44-4cf139df4646"
      },
      "source": [
        "classifier_mlp = MLPClassifier()\r\n",
        "\r\n",
        "params = {\r\n",
        "    'hidden_layer_sizes': ((100,),(100,100),(50,50)),\r\n",
        "    'activation': ['relu'],\r\n",
        "    'solver': ['adam'],\r\n",
        "    'alpha': [0.0001, 0.05, 0.1],\r\n",
        "    'learning_rate': ['constant','adaptive'],\r\n",
        "}\r\n",
        "\r\n",
        "best_classifier_mlp = GridSearchCV(classifier_mlp, params, scoring='accuracy', n_jobs=-1, cv=2)\r\n",
        "\r\n",
        "classifier_mlp = best_classifier_mlp.fit(x,y)\r\n",
        "\r\n",
        "print(\"Best params:\")\r\n",
        "print(best_classifier_mlp.best_params_)\r\n",
        "print(\"\\n\")\r\n",
        "print(\"Best scores:\")\r\n",
        "print(best_classifier_mlp.best_score_)"
      ],
      "execution_count": 279,
      "outputs": [
        {
          "output_type": "stream",
          "text": [
            "Best params:\n",
            "{'activation': 'relu', 'alpha': 0.0001, 'hidden_layer_sizes': (100,), 'learning_rate': 'constant', 'solver': 'adam'}\n",
            "\n",
            "\n",
            "Best scores:\n",
            "0.9891\n"
          ],
          "name": "stdout"
        },
        {
          "output_type": "stream",
          "text": [
            "/usr/local/lib/python3.6/dist-packages/sklearn/neural_network/_multilayer_perceptron.py:571: ConvergenceWarning: Stochastic Optimizer: Maximum iterations (200) reached and the optimization hasn't converged yet.\n",
            "  % self.max_iter, ConvergenceWarning)\n"
          ],
          "name": "stderr"
        }
      ]
    },
    {
      "cell_type": "code",
      "metadata": {
        "colab": {
          "base_uri": "https://localhost:8080/"
        },
        "id": "zsBvuklKUBX0",
        "outputId": "cb9dfa33-9496-4c04-8cb8-1b0b5c731adf"
      },
      "source": [
        "classifier_ada = AdaBoostClassifier(random_state=0)\r\n",
        "\r\n",
        "params = {\r\n",
        "    'n_estimators': (600,700,800),\r\n",
        "    'learning_rate': (0.05, 0.1,1),\r\n",
        "}\r\n",
        "\r\n",
        "best_classifier_ada = GridSearchCV(classifier_ada, params, scoring='accuracy', n_jobs=-1, cv=2)\r\n",
        "\r\n",
        "classifier_ada = best_classifier_ada.fit(x,y)\r\n",
        "\r\n",
        "print(\"Best params:\")\r\n",
        "print(best_classifier_ada.best_params_)\r\n",
        "print(\"\\n\")\r\n",
        "print(\"Best scores:\")\r\n",
        "print(best_classifier_ada.best_score_)"
      ],
      "execution_count": 280,
      "outputs": [
        {
          "output_type": "stream",
          "text": [
            "Best params:\n",
            "{'learning_rate': 0.05, 'n_estimators': 600}\n",
            "\n",
            "\n",
            "Best scores:\n",
            "0.9891\n"
          ],
          "name": "stdout"
        }
      ]
    },
    {
      "cell_type": "code",
      "metadata": {
        "colab": {
          "base_uri": "https://localhost:8080/"
        },
        "id": "4qQi5LwxUF3q",
        "outputId": "96251358-557b-47a5-c43b-55de4c19c4f3"
      },
      "source": [
        "classifier_gradient = GradientBoostingClassifier(random_state=0)\r\n",
        "\r\n",
        "params = {\r\n",
        "    'n_estimators': (400,500,600),\r\n",
        "    'learning_rate': (0.001,0.01, 0.05, 0.1),\r\n",
        "}\r\n",
        "\r\n",
        "best_classifier_gradient = GridSearchCV(classifier_gradient, params, scoring='accuracy', n_jobs=-1, cv=2)\r\n",
        "\r\n",
        "classifier_gradient = best_classifier_gradient.fit(x,y)\r\n",
        "\r\n",
        "print(\"Best params:\")\r\n",
        "print(best_classifier_gradient.best_params_)\r\n",
        "print(\"\\n\")\r\n",
        "print(\"Best scores:\")\r\n",
        "print(best_classifier_gradient.best_score_)"
      ],
      "execution_count": 281,
      "outputs": [
        {
          "output_type": "stream",
          "text": [
            "Best params:\n",
            "{'learning_rate': 0.001, 'n_estimators': 400}\n",
            "\n",
            "\n",
            "Best scores:\n",
            "0.9891\n"
          ],
          "name": "stdout"
        }
      ]
    },
    {
      "cell_type": "code",
      "metadata": {
        "colab": {
          "base_uri": "https://localhost:8080/"
        },
        "id": "MnX9OVSzUGtM",
        "outputId": "dc9a3378-c08f-447c-e2f2-3b1b29b67f60"
      },
      "source": [
        "classifier_random_forest = RandomForestClassifier(random_state=0)\r\n",
        "\r\n",
        "params = {\r\n",
        "    'n_estimators': (800,900,1000),\r\n",
        "    \"max_depth\": [9, 10, 11,12],\r\n",
        "}\r\n",
        "\r\n",
        "best_classifier_random_forest = GridSearchCV(classifier_random_forest, params, scoring='accuracy', n_jobs=-1, cv=2)\r\n",
        "\r\n",
        "classifier_random_forest = best_classifier_random_forest.fit(x,y)\r\n",
        "\r\n",
        "print(\"Best params:\")\r\n",
        "print(best_classifier_random_forest.best_params_)\r\n",
        "print(\"\\n\")\r\n",
        "print(\"Best scores:\")\r\n",
        "print(best_classifier_random_forest.best_score_)"
      ],
      "execution_count": 282,
      "outputs": [
        {
          "output_type": "stream",
          "text": [
            "Best params:\n",
            "{'max_depth': 9, 'n_estimators': 800}\n",
            "\n",
            "\n",
            "Best scores:\n",
            "0.989\n"
          ],
          "name": "stdout"
        }
      ]
    },
    {
      "cell_type": "markdown",
      "metadata": {
        "id": "UiijDatCjiT9"
      },
      "source": [
        "Watching the results it's clear to see that none model was capable of learn a pattern in the data to infer if a transaction is as fraud or not. Every model obtained 0.9891 as score and this represents a scenario that the hypothesis is that none transaction is fraudulent. Maybe with more data from fraudulent transactiona will be possible to develope a model with higher accuracy."
      ]
    }
  ]
}